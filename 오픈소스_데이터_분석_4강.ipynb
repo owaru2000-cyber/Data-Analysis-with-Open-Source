{
  "nbformat": 4,
  "nbformat_minor": 0,
  "metadata": {
    "colab": {
      "provenance": [],
      "include_colab_link": true
    },
    "kernelspec": {
      "name": "python3",
      "display_name": "Python 3"
    },
    "language_info": {
      "name": "python"
    }
  },
  "cells": [
    {
      "cell_type": "markdown",
      "metadata": {
        "id": "view-in-github",
        "colab_type": "text"
      },
      "source": [
        "<a href=\"https://colab.research.google.com/github/owaru2000-cyber/Data-Analysis-with-Open-Source/blob/main/%EC%98%A4%ED%94%88%EC%86%8C%EC%8A%A4_%EB%8D%B0%EC%9D%B4%ED%84%B0_%EB%B6%84%EC%84%9D_4%EA%B0%95.ipynb\" target=\"_parent\"><img src=\"https://colab.research.google.com/assets/colab-badge.svg\" alt=\"Open In Colab\"/></a>"
      ]
    },
    {
      "cell_type": "markdown",
      "source": [
        "\n",
        "\n",
        "# 오픈소스 기반 데이터 분석 4강 - 데이터 수집\n"
      ],
      "metadata": {
        "id": "DkPKaAsoRq5Q"
      }
    },
    {
      "cell_type": "markdown",
      "source": [
        "## 4-1 CSV 파일 읽기"
      ],
      "metadata": {
        "id": "-I7BVVlnRrB0"
      }
    },
    {
      "cell_type": "code",
      "source": [
        "!pip install koreanize_matplotlib\n",
        "import koreanize_matplotlib\n",
        "import pandas as pd\n",
        "\n"
      ],
      "metadata": {
        "id": "2Y2HEiaiRwAI",
        "colab": {
          "base_uri": "https://localhost:8080/"
        },
        "outputId": "04153793-841e-4433-85b6-b4a1a616d995"
      },
      "execution_count": 2,
      "outputs": [
        {
          "output_type": "stream",
          "name": "stdout",
          "text": [
            "Collecting koreanize_matplotlib\n",
            "  Downloading koreanize_matplotlib-0.1.1-py3-none-any.whl.metadata (992 bytes)\n",
            "Requirement already satisfied: matplotlib in /usr/local/lib/python3.12/dist-packages (from koreanize_matplotlib) (3.10.0)\n",
            "Requirement already satisfied: contourpy>=1.0.1 in /usr/local/lib/python3.12/dist-packages (from matplotlib->koreanize_matplotlib) (1.3.3)\n",
            "Requirement already satisfied: cycler>=0.10 in /usr/local/lib/python3.12/dist-packages (from matplotlib->koreanize_matplotlib) (0.12.1)\n",
            "Requirement already satisfied: fonttools>=4.22.0 in /usr/local/lib/python3.12/dist-packages (from matplotlib->koreanize_matplotlib) (4.59.2)\n",
            "Requirement already satisfied: kiwisolver>=1.3.1 in /usr/local/lib/python3.12/dist-packages (from matplotlib->koreanize_matplotlib) (1.4.9)\n",
            "Requirement already satisfied: numpy>=1.23 in /usr/local/lib/python3.12/dist-packages (from matplotlib->koreanize_matplotlib) (2.0.2)\n",
            "Requirement already satisfied: packaging>=20.0 in /usr/local/lib/python3.12/dist-packages (from matplotlib->koreanize_matplotlib) (25.0)\n",
            "Requirement already satisfied: pillow>=8 in /usr/local/lib/python3.12/dist-packages (from matplotlib->koreanize_matplotlib) (11.3.0)\n",
            "Requirement already satisfied: pyparsing>=2.3.1 in /usr/local/lib/python3.12/dist-packages (from matplotlib->koreanize_matplotlib) (3.2.3)\n",
            "Requirement already satisfied: python-dateutil>=2.7 in /usr/local/lib/python3.12/dist-packages (from matplotlib->koreanize_matplotlib) (2.9.0.post0)\n",
            "Requirement already satisfied: six>=1.5 in /usr/local/lib/python3.12/dist-packages (from python-dateutil>=2.7->matplotlib->koreanize_matplotlib) (1.17.0)\n",
            "Downloading koreanize_matplotlib-0.1.1-py3-none-any.whl (7.9 MB)\n",
            "\u001b[2K   \u001b[90m━━━━━━━━━━━━━━━━━━━━━━━━━━━━━━━━━━━━━━━━\u001b[0m \u001b[32m7.9/7.9 MB\u001b[0m \u001b[31m91.8 MB/s\u001b[0m eta \u001b[36m0:00:00\u001b[0m\n",
            "\u001b[?25hInstalling collected packages: koreanize_matplotlib\n",
            "Successfully installed koreanize_matplotlib-0.1.1\n"
          ]
        }
      ]
    },
    {
      "cell_type": "code",
      "source": [
        "## data.csv 파일 읽기\n",
        "df = pd.read_csv('data.csv', encoding = 'utf-8' , sep=',' , header =0 ,\n",
        "                 index_col=None, skiprows = None, nrows = None)\n",
        "print(df)"
      ],
      "metadata": {
        "colab": {
          "base_uri": "https://localhost:8080/"
        },
        "id": "p6lEQ3iRjML_",
        "outputId": "f0dd9190-2e0b-4089-d54b-2336afdcefec"
      },
      "execution_count": null,
      "outputs": [
        {
          "output_type": "stream",
          "name": "stdout",
          "text": [
            "           날짜    체중  골격근량  체지방량\n",
            "0  2025.02.06  64.7  30.0  11.1\n",
            "1  2025.02.04  64.0  29.3  11.6\n"
          ]
        }
      ]
    },
    {
      "cell_type": "markdown",
      "source": [
        "## 4-2 JSON 파일 읽기\n",
        "\n"
      ],
      "metadata": {
        "id": "9kHCFaGlRrE0"
      }
    },
    {
      "cell_type": "code",
      "source": [
        "import json\n",
        "import pandas as pd\n",
        "\n",
        "## data.json 파일 출력\n",
        "with open('data.json', mode ='r', encoding='utf-8') as f:\n",
        "    data = json.load(f)\n",
        "print(data)\n",
        "## data.json 파일 DataFrame 읽기\n",
        "df = pd.read_json('data.json' , orient='records', encoding='utf-8')\n",
        "print(df)"
      ],
      "metadata": {
        "id": "IO8bsKekR0W_",
        "colab": {
          "base_uri": "https://localhost:8080/"
        },
        "outputId": "be8875d2-2ec3-4fd8-dc74-04aa74b1566c"
      },
      "execution_count": null,
      "outputs": [
        {
          "output_type": "stream",
          "name": "stdout",
          "text": [
            "{'매출데이터': [{'월': '2025-01', '매출액': 1000000, '비용': 700000, '이익': 300000}, {'월': '2025-02', '매출액': 1200000, '비용': 800000, '이익': 400000}, {'월': '2025-03', '매출액': 1500000, '비용': 900000, '이익': 600000}]}\n",
            "                                               매출데이터\n",
            "0  {'월': '2025-01', '매출액': 1000000, '비용': 700000,...\n",
            "1  {'월': '2025-02', '매출액': 1200000, '비용': 800000,...\n",
            "2  {'월': '2025-03', '매출액': 1500000, '비용': 900000,...\n"
          ]
        }
      ]
    },
    {
      "cell_type": "markdown",
      "source": [
        "## 4-3 텍스트 파일 읽기 및 데이터 추출"
      ],
      "metadata": {
        "id": "uLd_3A_IRrHG"
      }
    },
    {
      "cell_type": "code",
      "source": [
        "import re\n",
        "\n",
        "## 파일(callcenter20250301.log) 오픈 및 읽기\n",
        "with open('callcenter20250301.log', 'r', encoding='utf-8') as f:\n",
        "    content = f.read()\n",
        "## 주민등록번호 패턴 생성\n",
        "pattern = re.compile(r'(\\d{6})-(\\d{7})')\n",
        "## 주민등록번호 마스킹\n",
        "masked_content = pattern.sub(r'\\1-*******', content)\n",
        "\n",
        "## 마스킹된 파일(callcenter20250301_masked.log) 오픈 및 쓰기\n",
        "with open('callcenter20250301_masked.log', mode = 'w', encoding='utf-8') as f:\n",
        "    f.write(masked_content)\n",
        "\n",
        "print(\"주민등록번호 마스킹 완료. 'callcenter20250301_masked.log.txt' 파일로 저장되었습니다.\")"
      ],
      "metadata": {
        "id": "60qOf7uxVdAg",
        "colab": {
          "base_uri": "https://localhost:8080/"
        },
        "outputId": "a59829a9-946a-4cfe-d47e-6dd6c617556c"
      },
      "execution_count": null,
      "outputs": [
        {
          "output_type": "stream",
          "name": "stdout",
          "text": [
            "주민등록번호 마스킹 완료. 'callcenter20250301_masked.log.txt' 파일로 저장되었습니다.\n"
          ]
        }
      ]
    },
    {
      "cell_type": "markdown",
      "source": [
        "## 4-4 Open-Meteo의 무료 날씨 API를 통한 특정 지역 온도 조회"
      ],
      "metadata": {
        "id": "eOMufu5SXiAU"
      }
    },
    {
      "cell_type": "code",
      "source": [
        "import requests\n",
        "import json\n",
        "\n",
        "url = \"https://api.open-meteo.com/v1/forecast?=&=&current=temperature_2m\"\n",
        "params = {\n",
        "    \"latitude\": \"37.606191\",\n",
        "    \"longitude\": \"126.763840\",\n",
        "    \"current\": \"temperature_2m\"\n",
        "}\n",
        "\n",
        "try:\n",
        "    ## URL 및 파라미터 전송\n",
        "    response = requests.get(url,params=params)\n",
        "    response.raise_for_status()\n",
        "\n",
        "    ## JSON 데이터 읽기\n",
        "    data = response.json()\n",
        "\n",
        "    print(\"API 응답:\", data)\n",
        "    print(\"김포시 고촌읍의 현재 온도는 : {0}{1} 입니다.\".format(data['current']['temperature_2m'], data['current_units']['temperature_2m']))\n",
        "\n",
        "except requests.exceptions.RequestException as e:\n",
        "    print(f\"API 호출 실패: {e}\")\n",
        "except json.JSONDecodeError as e:\n",
        "    print(f\"JSON 파싱 실패: {e}\")"
      ],
      "metadata": {
        "id": "JpmgdsW9V0CY",
        "colab": {
          "base_uri": "https://localhost:8080/"
        },
        "outputId": "f7a92c20-7bd6-4c47-df90-ae36fb117481"
      },
      "execution_count": null,
      "outputs": [
        {
          "output_type": "stream",
          "name": "stdout",
          "text": [
            "API 응답: {'latitude': 37.6, 'longitude': 126.75, 'generationtime_ms': 0.034809112548828125, 'utc_offset_seconds': 0, 'timezone': 'GMT', 'timezone_abbreviation': 'GMT', 'elevation': 30.0, 'current_units': {'time': 'iso8601', 'interval': 'seconds', 'temperature_2m': '°C'}, 'current': {'time': '2025-09-14T14:30', 'interval': 900, 'temperature_2m': 21.6}}\n",
            "김포시 고촌읍의 현재 온도는 : 21.6°C 입니다.\n"
          ]
        }
      ]
    },
    {
      "cell_type": "markdown",
      "source": [
        "## 4-5 Selenium과 lxml을 이용한 웹 스크래핑"
      ],
      "metadata": {
        "id": "RLfPaa1ZiqIC"
      }
    },
    {
      "cell_type": "code",
      "source": [
        "!curl -o google-chrome-stable_current_amd64.deb https://dl.google.com/linux/direct/google-chrome-stable_current_amd64.deb\n",
        "!apt install ./google-chrome-stable_current_amd64.deb -y\n",
        "!pip install selenium webdriver_manager"
      ],
      "metadata": {
        "id": "79dmM7MNk8pB",
        "colab": {
          "base_uri": "https://localhost:8080/"
        },
        "outputId": "4ae3be0f-fa3f-4cea-8f03-b5ef32c23d9b"
      },
      "execution_count": 1,
      "outputs": [
        {
          "output_type": "stream",
          "name": "stdout",
          "text": [
            "  % Total    % Received % Xferd  Average Speed   Time    Time     Time  Current\n",
            "                                 Dload  Upload   Total   Spent    Left  Speed\n",
            "100  115M  100  115M    0     0  66.0M      0  0:00:01  0:00:01 --:--:-- 66.0M\n",
            "Reading package lists... Done\n",
            "Building dependency tree... Done\n",
            "Reading state information... Done\n",
            "Note, selecting 'google-chrome-stable' instead of './google-chrome-stable_current_amd64.deb'\n",
            "The following additional packages will be installed:\n",
            "  libvulkan1 mesa-vulkan-drivers\n",
            "The following NEW packages will be installed:\n",
            "  google-chrome-stable libvulkan1 mesa-vulkan-drivers\n",
            "0 upgraded, 3 newly installed, 0 to remove and 35 not upgraded.\n",
            "Need to get 10.9 MB/131 MB of archives.\n",
            "After this operation, 447 MB of additional disk space will be used.\n",
            "Get:1 http://archive.ubuntu.com/ubuntu jammy/main amd64 libvulkan1 amd64 1.3.204.1-2 [128 kB]\n",
            "Get:2 http://archive.ubuntu.com/ubuntu jammy-updates/main amd64 mesa-vulkan-drivers amd64 23.2.1-1ubuntu3.1~22.04.3 [10.7 MB]\n",
            "Get:3 /content/google-chrome-stable_current_amd64.deb google-chrome-stable amd64 140.0.7339.127-1 [121 MB]\n",
            "Fetched 10.9 MB in 2s (6,843 kB/s)\n",
            "Selecting previously unselected package libvulkan1:amd64.\n",
            "(Reading database ... 126374 files and directories currently installed.)\n",
            "Preparing to unpack .../libvulkan1_1.3.204.1-2_amd64.deb ...\n",
            "Unpacking libvulkan1:amd64 (1.3.204.1-2) ...\n",
            "Selecting previously unselected package google-chrome-stable.\n",
            "Preparing to unpack .../google-chrome-stable_current_amd64.deb ...\n",
            "Unpacking google-chrome-stable (140.0.7339.127-1) ...\n",
            "Selecting previously unselected package mesa-vulkan-drivers:amd64.\n",
            "Preparing to unpack .../mesa-vulkan-drivers_23.2.1-1ubuntu3.1~22.04.3_amd64.deb ...\n",
            "Unpacking mesa-vulkan-drivers:amd64 (23.2.1-1ubuntu3.1~22.04.3) ...\n",
            "Setting up libvulkan1:amd64 (1.3.204.1-2) ...\n",
            "Setting up mesa-vulkan-drivers:amd64 (23.2.1-1ubuntu3.1~22.04.3) ...\n",
            "Setting up google-chrome-stable (140.0.7339.127-1) ...\n",
            "update-alternatives: using /usr/bin/google-chrome-stable to provide /usr/bin/x-www-browser (x-www-browser) in auto mode\n",
            "update-alternatives: using /usr/bin/google-chrome-stable to provide /usr/bin/gnome-www-browser (gnome-www-browser) in auto mode\n",
            "update-alternatives: using /usr/bin/google-chrome-stable to provide /usr/bin/google-chrome (google-chrome) in auto mode\n",
            "Processing triggers for man-db (2.10.2-1) ...\n",
            "Processing triggers for mailcap (3.70+nmu1ubuntu1) ...\n",
            "Processing triggers for libc-bin (2.35-0ubuntu3.8) ...\n",
            "/sbin/ldconfig.real: /usr/local/lib/libur_loader.so.0 is not a symbolic link\n",
            "\n",
            "/sbin/ldconfig.real: /usr/local/lib/libur_adapter_opencl.so.0 is not a symbolic link\n",
            "\n",
            "/sbin/ldconfig.real: /usr/local/lib/libtcm.so.1 is not a symbolic link\n",
            "\n",
            "/sbin/ldconfig.real: /usr/local/lib/libur_adapter_level_zero.so.0 is not a symbolic link\n",
            "\n",
            "/sbin/ldconfig.real: /usr/local/lib/libumf.so.0 is not a symbolic link\n",
            "\n",
            "/sbin/ldconfig.real: /usr/local/lib/libtcm_debug.so.1 is not a symbolic link\n",
            "\n",
            "/sbin/ldconfig.real: /usr/local/lib/libtbbbind_2_0.so.3 is not a symbolic link\n",
            "\n",
            "/sbin/ldconfig.real: /usr/local/lib/libur_adapter_level_zero_v2.so.0 is not a symbolic link\n",
            "\n",
            "/sbin/ldconfig.real: /usr/local/lib/libtbbmalloc.so.2 is not a symbolic link\n",
            "\n",
            "/sbin/ldconfig.real: /usr/local/lib/libtbbbind.so.3 is not a symbolic link\n",
            "\n",
            "/sbin/ldconfig.real: /usr/local/lib/libtbb.so.12 is not a symbolic link\n",
            "\n",
            "/sbin/ldconfig.real: /usr/local/lib/libtbbmalloc_proxy.so.2 is not a symbolic link\n",
            "\n",
            "/sbin/ldconfig.real: /usr/local/lib/libtbbbind_2_5.so.3 is not a symbolic link\n",
            "\n",
            "/sbin/ldconfig.real: /usr/local/lib/libhwloc.so.15 is not a symbolic link\n",
            "\n",
            "Collecting selenium\n",
            "  Downloading selenium-4.35.0-py3-none-any.whl.metadata (7.4 kB)\n",
            "Collecting webdriver_manager\n",
            "  Downloading webdriver_manager-4.0.2-py2.py3-none-any.whl.metadata (12 kB)\n",
            "Requirement already satisfied: urllib3<3.0,>=2.5.0 in /usr/local/lib/python3.12/dist-packages (from urllib3[socks]<3.0,>=2.5.0->selenium) (2.5.0)\n",
            "Collecting trio~=0.30.0 (from selenium)\n",
            "  Downloading trio-0.30.0-py3-none-any.whl.metadata (8.5 kB)\n",
            "Collecting trio-websocket~=0.12.2 (from selenium)\n",
            "  Downloading trio_websocket-0.12.2-py3-none-any.whl.metadata (5.1 kB)\n",
            "Requirement already satisfied: certifi>=2025.6.15 in /usr/local/lib/python3.12/dist-packages (from selenium) (2025.8.3)\n",
            "Collecting typing_extensions~=4.14.0 (from selenium)\n",
            "  Downloading typing_extensions-4.14.1-py3-none-any.whl.metadata (3.0 kB)\n",
            "Requirement already satisfied: websocket-client~=1.8.0 in /usr/local/lib/python3.12/dist-packages (from selenium) (1.8.0)\n",
            "Requirement already satisfied: requests in /usr/local/lib/python3.12/dist-packages (from webdriver_manager) (2.32.4)\n",
            "Requirement already satisfied: python-dotenv in /usr/local/lib/python3.12/dist-packages (from webdriver_manager) (1.1.1)\n",
            "Requirement already satisfied: packaging in /usr/local/lib/python3.12/dist-packages (from webdriver_manager) (25.0)\n",
            "Requirement already satisfied: attrs>=23.2.0 in /usr/local/lib/python3.12/dist-packages (from trio~=0.30.0->selenium) (25.3.0)\n",
            "Requirement already satisfied: sortedcontainers in /usr/local/lib/python3.12/dist-packages (from trio~=0.30.0->selenium) (2.4.0)\n",
            "Requirement already satisfied: idna in /usr/local/lib/python3.12/dist-packages (from trio~=0.30.0->selenium) (3.10)\n",
            "Collecting outcome (from trio~=0.30.0->selenium)\n",
            "  Downloading outcome-1.3.0.post0-py2.py3-none-any.whl.metadata (2.6 kB)\n",
            "Requirement already satisfied: sniffio>=1.3.0 in /usr/local/lib/python3.12/dist-packages (from trio~=0.30.0->selenium) (1.3.1)\n",
            "Collecting wsproto>=0.14 (from trio-websocket~=0.12.2->selenium)\n",
            "  Downloading wsproto-1.2.0-py3-none-any.whl.metadata (5.6 kB)\n",
            "Requirement already satisfied: pysocks!=1.5.7,<2.0,>=1.5.6 in /usr/local/lib/python3.12/dist-packages (from urllib3[socks]<3.0,>=2.5.0->selenium) (1.7.1)\n",
            "Requirement already satisfied: charset_normalizer<4,>=2 in /usr/local/lib/python3.12/dist-packages (from requests->webdriver_manager) (3.4.3)\n",
            "Requirement already satisfied: h11<1,>=0.9.0 in /usr/local/lib/python3.12/dist-packages (from wsproto>=0.14->trio-websocket~=0.12.2->selenium) (0.16.0)\n",
            "Downloading selenium-4.35.0-py3-none-any.whl (9.6 MB)\n",
            "\u001b[2K   \u001b[90m━━━━━━━━━━━━━━━━━━━━━━━━━━━━━━━━━━━━━━━━\u001b[0m \u001b[32m9.6/9.6 MB\u001b[0m \u001b[31m102.6 MB/s\u001b[0m eta \u001b[36m0:00:00\u001b[0m\n",
            "\u001b[?25hDownloading webdriver_manager-4.0.2-py2.py3-none-any.whl (27 kB)\n",
            "Downloading trio-0.30.0-py3-none-any.whl (499 kB)\n",
            "\u001b[2K   \u001b[90m━━━━━━━━━━━━━━━━━━━━━━━━━━━━━━━━━━━━━━━━\u001b[0m \u001b[32m499.2/499.2 kB\u001b[0m \u001b[31m38.4 MB/s\u001b[0m eta \u001b[36m0:00:00\u001b[0m\n",
            "\u001b[?25hDownloading trio_websocket-0.12.2-py3-none-any.whl (21 kB)\n",
            "Downloading typing_extensions-4.14.1-py3-none-any.whl (43 kB)\n",
            "\u001b[2K   \u001b[90m━━━━━━━━━━━━━━━━━━━━━━━━━━━━━━━━━━━━━━━━\u001b[0m \u001b[32m43.9/43.9 kB\u001b[0m \u001b[31m3.8 MB/s\u001b[0m eta \u001b[36m0:00:00\u001b[0m\n",
            "\u001b[?25hDownloading outcome-1.3.0.post0-py2.py3-none-any.whl (10 kB)\n",
            "Downloading wsproto-1.2.0-py3-none-any.whl (24 kB)\n",
            "Installing collected packages: wsproto, typing_extensions, outcome, webdriver_manager, trio, trio-websocket, selenium\n",
            "  Attempting uninstall: typing_extensions\n",
            "    Found existing installation: typing_extensions 4.15.0\n",
            "    Uninstalling typing_extensions-4.15.0:\n",
            "      Successfully uninstalled typing_extensions-4.15.0\n",
            "Successfully installed outcome-1.3.0.post0 selenium-4.35.0 trio-0.30.0 trio-websocket-0.12.2 typing_extensions-4.14.1 webdriver_manager-4.0.2 wsproto-1.2.0\n"
          ]
        }
      ]
    },
    {
      "cell_type": "code",
      "source": [
        "from selenium import webdriver\n",
        "from selenium.webdriver.chrome.service import Service as ChromeService\n",
        "from webdriver_manager.chrome import ChromeDriverManager\n",
        "from selenium.webdriver.common.by import By\n",
        "from lxml import html\n",
        "import time\n",
        "\n",
        "chrome_options = webdriver.ChromeOptions()\n",
        "chrome_options.add_argument('--headless')               # 브라우저 창 없이 실행\n",
        "chrome_options.add_argument('--no-sandbox')             # 보안모드 비활성화 (Colab 필수)\n",
        "chrome_options.add_argument('--disable-dev-shm-usage')  # 메모리 부족 방지 (Colab 필수)\n",
        "chrome_options.add_argument('--window-size=1920x1080')  # 창 크기 설정(가상)\n",
        "chrome_options.add_argument('--disable-gpu')            # GPU 가속 비활성화 (일부 환경 안정성)\n",
        "chrome_options.binary_location = \"/usr/bin/google-chrome-stable\"  # Colab용 크롬 경로 지정\n",
        "\n",
        "## 드라이버 실행\n",
        "driver = webdriver.Chrome(options=chrome_options)\n",
        "\n",
        "## 사이트 접속\n",
        "url = 'https://github.com/jaehwachung/Data-Analysis-with-Open-Source'\n",
        "driver.get(url)\n",
        "\n",
        "## 사이트 접속 대기\n",
        "time.sleep(2)\n",
        "\n",
        "## 페이지 제목 출력\n",
        "page_source = driver.page_source\n",
        "tree = html.fromstring(page_source)\n",
        "\n",
        "title_text = tree.xpath('//title/text()')\n",
        "print(title_text)\n",
        "## 드라이버 종료\n",
        "driver.quit()"
      ],
      "metadata": {
        "id": "cRC8x3_iW0im",
        "colab": {
          "base_uri": "https://localhost:8080/"
        },
        "outputId": "c5bd63a7-e659-4efd-cc1b-15e10815a68f"
      },
      "execution_count": 3,
      "outputs": [
        {
          "output_type": "stream",
          "name": "stdout",
          "text": [
            "['GitHub - jaehwachung/Data-Analysis-with-Open-Source: Data Analysis with Open Source']\n"
          ]
        }
      ]
    },
    {
      "cell_type": "code",
      "source": [
        "from selenium import webdriver\n",
        "from selenium.webdriver.chrome.service import Service as ChromeService\n",
        "from selenium.webdriver.common.by import By\n",
        "from selenium.webdriver.support.ui import WebDriverWait\n",
        "from selenium.webdriver.support import expected_conditions as EC\n",
        "from webdriver_manager.chrome import ChromeDriverManager\n",
        "from lxml import html\n",
        "import time\n",
        "\n",
        "chrome_options = webdriver.ChromeOptions()\n",
        "chrome_options.add_argument('--headless')               # 브라우저 창 없이 실행\n",
        "chrome_options.add_argument('--no-sandbox')             # 보안모드 비활성화 (Colab 필수)\n",
        "chrome_options.add_argument('--disable-dev-shm-usage')  # 메모리 부족 방지 (Colab 필수)\n",
        "chrome_options.add_argument('--window-size=1920x1080')  # 창 크기 설정(가상)\n",
        "chrome_options.add_argument('--disable-gpu')            # GPU 가속 비활성화 (일부 환경 안정성)\n",
        "chrome_options.binary_location = \"/usr/bin/google-chrome-stable\"  # Colab용 크롬 경로 지정\n",
        "\n",
        "## 드라이버 실행\n",
        "driver = webdriver.Chrome(options=chrome_options)\n",
        "\n",
        "## 사이트 접속\n",
        "url = 'https://github.com/jaehwachung/Data-Analysis-with-Open-Source'\n",
        "driver.get(url)\n",
        "\n",
        "## 사이트 접속 대기\n",
        "time.sleep(2)\n",
        "\n",
        "## 페이지 제목 출력\n",
        "page_source = driver.page_source\n",
        "tree = html.fromstring(page_source)\n",
        "\n",
        "title_text = tree.xpath('//title/text()')\n",
        "#title_text = tree.xpath('normalize-space(//title)')\n",
        "#print(driver.title)\n",
        "print(title_text)\n",
        "## 드라이버 종료\n",
        "driver.quit()"
      ],
      "metadata": {
        "id": "iQ6aK_eTtHCl",
        "outputId": "31680fd3-3230-4df8-d121-cfdfa6e26543",
        "colab": {
          "base_uri": "https://localhost:8080/"
        }
      },
      "execution_count": 4,
      "outputs": [
        {
          "output_type": "stream",
          "name": "stdout",
          "text": [
            "['GitHub - jaehwachung/Data-Analysis-with-Open-Source: Data Analysis with Open Source']\n"
          ]
        }
      ]
    },
    {
      "cell_type": "markdown",
      "source": [
        "\n",
        "# 실습 시나리오"
      ],
      "metadata": {
        "id": "Bu6OMZyGirOq"
      }
    },
    {
      "cell_type": "markdown",
      "source": [
        "## 공공데이터 포털 가입 및 데이터 신청\n",
        "\n",
        "- [https://www.data.go.kr](https://www.data.go.kr)\n",
        "- 한국환경공단 에어코리아 대기오염정보 데이터 신청"
      ],
      "metadata": {
        "id": "nsuqRN9RkZlW"
      }
    },
    {
      "cell_type": "code",
      "source": [
        "import requests\n",
        "\n",
        "## 데이터 수집 url 및 api key 설정\n",
        "url='http://apis.data.go.kr/B552584/ArpltnInforInqireSvc/getCtprvnRltmMesureDnsty'\n",
        "api_key = 'OuIDkksX+217W/DJWb7kQ1aZspb7oxAVsF9mmtx4nuqgZJY6mEp4GE4qeykKNpwVTnf/WNociJKI+j5AySvlyw=='\n",
        "params = {\n",
        "    'serviceKey': api_key,\n",
        "    'returnType': 'json',\n",
        "    'numOfRows': '100',\n",
        "    'pageNo': '1',\n",
        "    'sidoName': '서울',\n",
        "    'ver': '1.0'\n",
        "}\n",
        "\n",
        "## 데이터 수집\n",
        "response = requests.get(url, params=params)\n",
        "#data = response.json()\n",
        "\n",
        "## 데이터 출력\n",
        "print(response.json())\n",
        "## 호출 성공/실패 출력\n",
        "\n"
      ],
      "metadata": {
        "id": "7yCozmQeXJcO",
        "outputId": "7be528b1-b571-49ff-b0c9-c0d9e7e0c88c",
        "colab": {
          "base_uri": "https://localhost:8080/"
        }
      },
      "execution_count": null,
      "outputs": [
        {
          "output_type": "stream",
          "name": "stdout",
          "text": [
            "{'response': {'body': {'totalCount': 40, 'items': [{'so2Grade': '1', 'coFlag': None, 'khaiValue': '54', 'so2Value': '0.002', 'coValue': '0.4', 'pm25Flag': None, 'pm10Flag': None, 'o3Grade': '2', 'pm10Value': '16', 'khaiGrade': '2', 'pm25Value': '10', 'sidoName': '서울', 'no2Flag': None, 'no2Grade': '1', 'o3Flag': None, 'pm25Grade': '1', 'so2Flag': None, 'dataTime': '2025-09-14 24:00', 'coGrade': '1', 'no2Value': '0.019', 'stationName': '중구', 'pm10Grade': '1', 'o3Value': '0.034'}, {'so2Grade': '1', 'coFlag': None, 'khaiValue': '55', 'so2Value': '0.003', 'coValue': '0.4', 'pm25Flag': None, 'pm10Flag': None, 'o3Grade': '2', 'pm10Value': '19', 'khaiGrade': '2', 'pm25Value': '10', 'sidoName': '서울', 'no2Flag': None, 'no2Grade': '1', 'o3Flag': None, 'pm25Grade': '1', 'so2Flag': None, 'dataTime': '2025-09-14 24:00', 'coGrade': '1', 'no2Value': '0.018', 'stationName': '한강대로', 'pm10Grade': '1', 'o3Value': '0.035'}, {'so2Grade': '1', 'coFlag': None, 'khaiValue': '58', 'so2Value': '0.003', 'coValue': '0.3', 'pm25Flag': None, 'pm10Flag': None, 'o3Grade': '2', 'pm10Value': '13', 'khaiGrade': '2', 'pm25Value': '11', 'sidoName': '서울', 'no2Flag': None, 'no2Grade': '1', 'o3Flag': None, 'pm25Grade': '1', 'so2Flag': None, 'dataTime': '2025-09-14 24:00', 'coGrade': '1', 'no2Value': '0.017', 'stationName': '종로구', 'pm10Grade': '1', 'o3Value': '0.038'}, {'so2Grade': '1', 'coFlag': None, 'khaiValue': '46', 'so2Value': '0.003', 'coValue': '0.4', 'pm25Flag': None, 'pm10Flag': None, 'o3Grade': '1', 'pm10Value': '19', 'khaiGrade': '1', 'pm25Value': '9', 'sidoName': '서울', 'no2Flag': None, 'no2Grade': '1', 'o3Flag': None, 'pm25Grade': '1', 'so2Flag': None, 'dataTime': '2025-09-14 24:00', 'coGrade': '1', 'no2Value': '0.020', 'stationName': '청계천로', 'pm10Grade': '1', 'o3Value': '0.027'}, {'so2Grade': '1', 'coFlag': None, 'khaiValue': '51', 'so2Value': '0.002', 'coValue': '0.3', 'pm25Flag': None, 'pm10Flag': None, 'o3Grade': '2', 'pm10Value': '15', 'khaiGrade': '2', 'pm25Value': '7', 'sidoName': '서울', 'no2Flag': None, 'no2Grade': '1', 'o3Flag': None, 'pm25Grade': '1', 'so2Flag': None, 'dataTime': '2025-09-14 24:00', 'coGrade': '1', 'no2Value': '0.014', 'stationName': '종로', 'pm10Grade': '1', 'o3Value': '0.030'}, {'so2Grade': '1', 'coFlag': None, 'khaiValue': '44', 'so2Value': '0.002', 'coValue': '0.4', 'pm25Flag': None, 'pm10Flag': None, 'o3Grade': '1', 'pm10Value': '18', 'khaiGrade': '1', 'pm25Value': '12', 'sidoName': '서울', 'no2Flag': None, 'no2Grade': '1', 'o3Flag': None, 'pm25Grade': '1', 'so2Flag': None, 'dataTime': '2025-09-14 24:00', 'coGrade': '1', 'no2Value': '0.026', 'stationName': '용산구', 'pm10Grade': '1', 'o3Value': '0.021'}, {'so2Grade': '1', 'coFlag': None, 'khaiValue': '40', 'so2Value': '0.003', 'coValue': '0.6', 'pm25Flag': None, 'pm10Flag': None, 'o3Grade': '1', 'pm10Value': '21', 'khaiGrade': '1', 'pm25Value': '14', 'sidoName': '서울', 'no2Flag': None, 'no2Grade': '1', 'o3Flag': None, 'pm25Grade': '1', 'so2Flag': None, 'dataTime': '2025-09-14 24:00', 'coGrade': '1', 'no2Value': '0.023', 'stationName': '광진구', 'pm10Grade': '1', 'o3Value': '0.023'}, {'so2Grade': '1', 'coFlag': None, 'khaiValue': '52', 'so2Value': '0.003', 'coValue': '0.4', 'pm25Flag': None, 'pm10Flag': None, 'o3Grade': '2', 'pm10Value': '17', 'khaiGrade': '2', 'pm25Value': '13', 'sidoName': '서울', 'no2Flag': None, 'no2Grade': '1', 'o3Flag': None, 'pm25Grade': '1', 'so2Flag': None, 'dataTime': '2025-09-14 24:00', 'coGrade': '1', 'no2Value': '0.022', 'stationName': '성동구', 'pm10Grade': '1', 'o3Value': '0.031'}, {'so2Grade': '1', 'coFlag': None, 'khaiValue': '45', 'so2Value': '0.003', 'coValue': '0.5', 'pm25Flag': None, 'pm10Flag': None, 'o3Grade': '1', 'pm10Value': '18', 'khaiGrade': '1', 'pm25Value': '7', 'sidoName': '서울', 'no2Flag': None, 'no2Grade': '1', 'o3Flag': None, 'pm25Grade': '1', 'so2Flag': None, 'dataTime': '2025-09-14 24:00', 'coGrade': '1', 'no2Value': '0.027', 'stationName': '강변북로', 'pm10Grade': '1', 'o3Value': '0.022'}, {'so2Grade': '1', 'coFlag': None, 'khaiValue': '41', 'so2Value': '0.003', 'coValue': '0.4', 'pm25Flag': None, 'pm10Flag': None, 'o3Grade': '1', 'pm10Value': '19', 'khaiGrade': '1', 'pm25Value': '11', 'sidoName': '서울', 'no2Flag': None, 'no2Grade': '1', 'o3Flag': None, 'pm25Grade': '1', 'so2Flag': None, 'dataTime': '2025-09-14 24:00', 'coGrade': '1', 'no2Value': '0.018', 'stationName': '중랑구', 'pm10Grade': '1', 'o3Value': '0.025'}, {'so2Grade': '1', 'coFlag': None, 'khaiValue': '56', 'so2Value': '0.002', 'coValue': '0.3', 'pm25Flag': None, 'pm10Flag': None, 'o3Grade': '2', 'pm10Value': '15', 'khaiGrade': '2', 'pm25Value': '8', 'sidoName': '서울', 'no2Flag': None, 'no2Grade': '1', 'o3Flag': None, 'pm25Grade': '1', 'so2Flag': None, 'dataTime': '2025-09-14 24:00', 'coGrade': '1', 'no2Value': '0.019', 'stationName': '동대문구', 'pm10Grade': '1', 'o3Value': '0.036'}, {'so2Grade': '1', 'coFlag': None, 'khaiValue': '51', 'so2Value': '0.003', 'coValue': '0.4', 'pm25Flag': None, 'pm10Flag': None, 'o3Grade': '2', 'pm10Value': '17', 'khaiGrade': '2', 'pm25Value': '7', 'sidoName': '서울', 'no2Flag': None, 'no2Grade': '1', 'o3Flag': None, 'pm25Grade': '1', 'so2Flag': None, 'dataTime': '2025-09-14 24:00', 'coGrade': '1', 'no2Value': '0.022', 'stationName': '홍릉로', 'pm10Grade': '1', 'o3Value': '0.031'}, {'so2Grade': '1', 'coFlag': None, 'khaiValue': '53', 'so2Value': '0.003', 'coValue': '0.3', 'pm25Flag': None, 'pm10Flag': None, 'o3Grade': '2', 'pm10Value': '12', 'khaiGrade': '2', 'pm25Value': '6', 'sidoName': '서울', 'no2Flag': None, 'no2Grade': '1', 'o3Flag': None, 'pm25Grade': '1', 'so2Flag': None, 'dataTime': '2025-09-14 24:00', 'coGrade': '1', 'no2Value': '0.013', 'stationName': '성북구', 'pm10Grade': '1', 'o3Value': '0.033'}, {'so2Grade': '1', 'coFlag': None, 'khaiValue': '53', 'so2Value': '0.003', 'coValue': '0.4', 'pm25Flag': None, 'pm10Flag': None, 'o3Grade': '2', 'pm10Value': '18', 'khaiGrade': '2', 'pm25Value': '7', 'sidoName': '서울', 'no2Flag': None, 'no2Grade': '1', 'o3Flag': None, 'pm25Grade': '1', 'so2Flag': None, 'dataTime': '2025-09-14 24:00', 'coGrade': '1', 'no2Value': '0.025', 'stationName': '정릉로', 'pm10Grade': '1', 'o3Value': '0.033'}, {'so2Grade': '1', 'coFlag': None, 'khaiValue': '49', 'so2Value': '0.003', 'coValue': '0.3', 'pm25Flag': None, 'pm10Flag': None, 'o3Grade': '1', 'pm10Value': '21', 'khaiGrade': '1', 'pm25Value': '8', 'sidoName': '서울', 'no2Flag': None, 'no2Grade': '1', 'o3Flag': None, 'pm25Grade': '1', 'so2Flag': None, 'dataTime': '2025-09-14 24:00', 'coGrade': '1', 'no2Value': '0.015', 'stationName': '도봉구', 'pm10Grade': '1', 'o3Value': '0.029'}, {'so2Grade': '1', 'coFlag': None, 'khaiValue': '34', 'so2Value': '0.002', 'coValue': '0.4', 'pm25Flag': None, 'pm10Flag': None, 'o3Grade': '1', 'pm10Value': '9', 'khaiGrade': '1', 'pm25Value': '6', 'sidoName': '서울', 'no2Flag': None, 'no2Grade': '1', 'o3Flag': None, 'pm25Grade': '1', 'so2Flag': None, 'dataTime': '2025-09-14 24:00', 'coGrade': '1', 'no2Value': '0.010', 'stationName': '은평구', 'pm10Grade': '1', 'o3Value': '0.020'}, {'so2Grade': '1', 'coFlag': None, 'khaiValue': '51', 'so2Value': '0.003', 'coValue': '0.4', 'pm25Flag': None, 'pm10Flag': None, 'o3Grade': '2', 'pm10Value': '11', 'khaiGrade': '2', 'pm25Value': '11', 'sidoName': '서울', 'no2Flag': None, 'no2Grade': '1', 'o3Flag': None, 'pm25Grade': '1', 'so2Flag': None, 'dataTime': '2025-09-14 24:00', 'coGrade': '1', 'no2Value': '0.009', 'stationName': '서대문구', 'pm10Grade': '1', 'o3Value': '0.030'}, {'so2Grade': '1', 'coFlag': None, 'khaiValue': '58', 'so2Value': '0.002', 'coValue': '0.3', 'pm25Flag': None, 'pm10Flag': None, 'o3Grade': '2', 'pm10Value': '15', 'khaiGrade': '2', 'pm25Value': '10', 'sidoName': '서울', 'no2Flag': None, 'no2Grade': '1', 'o3Flag': None, 'pm25Grade': '1', 'so2Flag': None, 'dataTime': '2025-09-14 24:00', 'coGrade': '1', 'no2Value': '0.020', 'stationName': '마포구', 'pm10Grade': '1', 'o3Value': '0.038'}, {'so2Grade': '1', 'coFlag': None, 'khaiValue': '52', 'so2Value': '0.003', 'coValue': '0.5', 'pm25Flag': None, 'pm10Flag': None, 'o3Grade': '2', 'pm10Value': '27', 'khaiGrade': '2', 'pm25Value': '13', 'sidoName': '서울', 'no2Flag': None, 'no2Grade': '1', 'o3Flag': None, 'pm25Grade': '1', 'so2Flag': None, 'dataTime': '2025-09-14 24:00', 'coGrade': '1', 'no2Value': '0.026', 'stationName': '신촌로', 'pm10Grade': '1', 'o3Value': '0.031'}, {'so2Grade': '1', 'coFlag': None, 'khaiValue': '52', 'so2Value': '0.003', 'coValue': '0.4', 'pm25Flag': None, 'pm10Flag': None, 'o3Grade': '2', 'pm10Value': '22', 'khaiGrade': '2', 'pm25Value': '13', 'sidoName': '서울', 'no2Flag': None, 'no2Grade': '1', 'o3Flag': None, 'pm25Grade': '1', 'so2Flag': None, 'dataTime': '2025-09-14 24:00', 'coGrade': '1', 'no2Value': '0.022', 'stationName': '강서구', 'pm10Grade': '1', 'o3Value': '0.031'}, {'so2Grade': '1', 'coFlag': None, 'khaiValue': '40', 'so2Value': '0.002', 'coValue': '0.4', 'pm25Flag': None, 'pm10Flag': None, 'o3Grade': '1', 'pm10Value': '19', 'khaiGrade': '1', 'pm25Value': '10', 'sidoName': '서울', 'no2Flag': None, 'no2Grade': '1', 'o3Flag': None, 'pm25Grade': '1', 'so2Flag': None, 'dataTime': '2025-09-14 24:00', 'coGrade': '1', 'no2Value': '0.024', 'stationName': '공항대로', 'pm10Grade': '1', 'o3Value': '0.024'}, {'so2Grade': '1', 'coFlag': None, 'khaiValue': '49', 'so2Value': '0.003', 'coValue': '0.4', 'pm25Flag': None, 'pm10Flag': None, 'o3Grade': '1', 'pm10Value': '25', 'khaiGrade': '1', 'pm25Value': '18', 'sidoName': '서울', 'no2Flag': None, 'no2Grade': '1', 'o3Flag': None, 'pm25Grade': '1', 'so2Flag': None, 'dataTime': '2025-09-14 24:00', 'coGrade': '1', 'no2Value': '0.016', 'stationName': '구로구', 'pm10Grade': '1', 'o3Value': '0.029'}, {'so2Grade': '1', 'coFlag': None, 'khaiValue': '54', 'so2Value': '0.002', 'coValue': '0.3', 'pm25Flag': None, 'pm10Flag': None, 'o3Grade': '2', 'pm10Value': '18', 'khaiGrade': '2', 'pm25Value': '12', 'sidoName': '서울', 'no2Flag': None, 'no2Grade': '1', 'o3Flag': None, 'pm25Grade': '1', 'so2Flag': None, 'dataTime': '2025-09-14 24:00', 'coGrade': '1', 'no2Value': '0.022', 'stationName': '영등포구', 'pm10Grade': '1', 'o3Value': '0.034'}, {'so2Grade': '1', 'coFlag': None, 'khaiValue': '53', 'so2Value': '0.002', 'coValue': '0.4', 'pm25Flag': None, 'pm10Flag': None, 'o3Grade': '1', 'pm10Value': '21', 'khaiGrade': '2', 'pm25Value': '12', 'sidoName': '서울', 'no2Flag': None, 'no2Grade': '2', 'o3Flag': None, 'pm25Grade': '1', 'so2Flag': None, 'dataTime': '2025-09-14 24:00', 'coGrade': '1', 'no2Value': '0.031', 'stationName': '영등포로', 'pm10Grade': '1', 'o3Value': '0.027'}, {'so2Grade': '1', 'coFlag': None, 'khaiValue': '58', 'so2Value': '0.002', 'coValue': '0.3', 'pm25Flag': None, 'pm10Flag': None, 'o3Grade': '2', 'pm10Value': '15', 'khaiGrade': '2', 'pm25Value': '8', 'sidoName': '서울', 'no2Flag': None, 'no2Grade': '1', 'o3Flag': None, 'pm25Grade': '1', 'so2Flag': None, 'dataTime': '2025-09-14 24:00', 'coGrade': '1', 'no2Value': '0.013', 'stationName': '동작구', 'pm10Grade': '1', 'o3Value': '0.038'}, {'so2Grade': '1', 'coFlag': None, 'khaiValue': '52', 'so2Value': '0.002', 'coValue': '0.5', 'pm25Flag': None, 'pm10Flag': None, 'o3Grade': '2', 'pm10Value': '18', 'khaiGrade': '2', 'pm25Value': '8', 'sidoName': '서울', 'no2Flag': None, 'no2Grade': '1', 'o3Flag': None, 'pm25Grade': '1', 'so2Flag': None, 'dataTime': '2025-09-14 24:00', 'coGrade': '1', 'no2Value': '0.025', 'stationName': '동작대로 중앙차로', 'pm10Grade': '1', 'o3Value': '0.032'}, {'so2Grade': '1', 'coFlag': None, 'khaiValue': '56', 'so2Value': '0.002', 'coValue': '0.4', 'pm25Flag': None, 'pm10Flag': None, 'o3Grade': '2', 'pm10Value': '19', 'khaiGrade': '2', 'pm25Value': '12', 'sidoName': '서울', 'no2Flag': None, 'no2Grade': '1', 'o3Flag': None, 'pm25Grade': '1', 'so2Flag': None, 'dataTime': '2025-09-14 24:00', 'coGrade': '1', 'no2Value': '0.016', 'stationName': '관악구', 'pm10Grade': '1', 'o3Value': '0.036'}, {'so2Grade': '1', 'coFlag': None, 'khaiValue': '60', 'so2Value': '0.003', 'coValue': '0.4', 'pm25Flag': None, 'pm10Flag': None, 'o3Grade': '2', 'pm10Value': '17', 'khaiGrade': '2', 'pm25Value': '11', 'sidoName': '서울', 'no2Flag': None, 'no2Grade': '1', 'o3Flag': None, 'pm25Grade': '1', 'so2Flag': None, 'dataTime': '2025-09-14 24:00', 'coGrade': '1', 'no2Value': '0.015', 'stationName': '강남구', 'pm10Grade': '1', 'o3Value': '0.041'}, {'so2Grade': '1', 'coFlag': None, 'khaiValue': '62', 'so2Value': '0.003', 'coValue': '0.4', 'pm25Flag': None, 'pm10Flag': None, 'o3Grade': '2', 'pm10Value': '17', 'khaiGrade': '2', 'pm25Value': '13', 'sidoName': '서울', 'no2Flag': None, 'no2Grade': '1', 'o3Flag': None, 'pm25Grade': '1', 'so2Flag': None, 'dataTime': '2025-09-14 24:00', 'coGrade': '1', 'no2Value': '0.012', 'stationName': '서초구', 'pm10Grade': '1', 'o3Value': '0.044'}, {'so2Grade': '1', 'coFlag': None, 'khaiValue': '61', 'so2Value': '0.003', 'coValue': '0.5', 'pm25Flag': None, 'pm10Flag': None, 'o3Grade': '2', 'pm10Value': '22', 'khaiGrade': '2', 'pm25Value': '8', 'sidoName': '서울', 'no2Flag': None, 'no2Grade': '1', 'o3Flag': None, 'pm25Grade': '1', 'so2Flag': None, 'dataTime': '2025-09-14 24:00', 'coGrade': '1', 'no2Value': '0.018', 'stationName': '도산대로', 'pm10Grade': '1', 'o3Value': '0.042'}, {'so2Grade': '1', 'coFlag': None, 'khaiValue': '39', 'so2Value': '0.001', 'coValue': '0.7', 'pm25Flag': None, 'pm10Flag': None, 'o3Grade': '1', 'pm10Value': '24', 'khaiGrade': '1', 'pm25Value': '12', 'sidoName': '서울', 'no2Flag': None, 'no2Grade': '1', 'o3Flag': None, 'pm25Grade': None, 'so2Flag': None, 'dataTime': '2025-09-14 24:00', 'coGrade': '1', 'no2Value': '0.023', 'stationName': '강남대로', 'pm10Grade': '1', 'o3Value': '0.012'}, {'so2Grade': '1', 'coFlag': None, 'khaiValue': '53', 'so2Value': '0.002', 'coValue': '0.4', 'pm25Flag': None, 'pm10Flag': None, 'o3Grade': '2', 'pm10Value': '18', 'khaiGrade': '2', 'pm25Value': '11', 'sidoName': '서울', 'no2Flag': None, 'no2Grade': '1', 'o3Flag': None, 'pm25Grade': '1', 'so2Flag': None, 'dataTime': '2025-09-14 24:00', 'coGrade': '1', 'no2Value': '0.018', 'stationName': '송파구', 'pm10Grade': '1', 'o3Value': '0.033'}, {'so2Grade': '1', 'coFlag': None, 'khaiValue': '37', 'so2Value': '0.002', 'coValue': '0.8', 'pm25Flag': None, 'pm10Flag': None, 'o3Grade': '1', 'pm10Value': '21', 'khaiGrade': '1', 'pm25Value': '14', 'sidoName': '서울', 'no2Flag': None, 'no2Grade': '1', 'o3Flag': None, 'pm25Grade': '1', 'so2Flag': None, 'dataTime': '2025-09-14 24:00', 'coGrade': '1', 'no2Value': '0.019', 'stationName': '강동구', 'pm10Grade': '1', 'o3Value': '0.020'}, {'so2Grade': '1', 'coFlag': None, 'khaiValue': '42', 'so2Value': '0.002', 'coValue': '0.6', 'pm25Flag': None, 'pm10Flag': None, 'o3Grade': '1', 'pm10Value': '19', 'khaiGrade': '1', 'pm25Value': '12', 'sidoName': '서울', 'no2Flag': None, 'no2Grade': '1', 'o3Flag': None, 'pm25Grade': '1', 'so2Flag': None, 'dataTime': '2025-09-14 24:00', 'coGrade': '1', 'no2Value': '0.025', 'stationName': '천호대로', 'pm10Grade': '1', 'o3Value': '0.020'}, {'so2Grade': '1', 'coFlag': None, 'khaiValue': '49', 'so2Value': '0.002', 'coValue': '0.3', 'pm25Flag': None, 'pm10Flag': None, 'o3Grade': '1', 'pm10Value': '19', 'khaiGrade': '1', 'pm25Value': '11', 'sidoName': '서울', 'no2Flag': None, 'no2Grade': '1', 'o3Flag': None, 'pm25Grade': '1', 'so2Flag': None, 'dataTime': '2025-09-14 24:00', 'coGrade': '1', 'no2Value': '0.018', 'stationName': '금천구', 'pm10Grade': '1', 'o3Value': '0.030'}, {'so2Grade': '1', 'coFlag': None, 'khaiValue': '52', 'so2Value': '0.003', 'coValue': '0.4', 'pm25Flag': None, 'pm10Flag': None, 'o3Grade': '2', 'pm10Value': '22', 'khaiGrade': '2', 'pm25Value': '13', 'sidoName': '서울', 'no2Flag': None, 'no2Grade': '1', 'o3Flag': None, 'pm25Grade': '1', 'so2Flag': None, 'dataTime': '2025-09-14 24:00', 'coGrade': '1', 'no2Value': '0.030', 'stationName': '시흥대로', 'pm10Grade': '1', 'o3Value': '0.031'}, {'so2Grade': '1', 'coFlag': None, 'khaiValue': '49', 'so2Value': '0.002', 'coValue': '0.4', 'pm25Flag': None, 'pm10Flag': None, 'o3Grade': '1', 'pm10Value': '19', 'khaiGrade': '1', 'pm25Value': '10', 'sidoName': '서울', 'no2Flag': None, 'no2Grade': '1', 'o3Flag': None, 'pm25Grade': '1', 'so2Flag': None, 'dataTime': '2025-09-14 24:00', 'coGrade': '1', 'no2Value': '0.007', 'stationName': '강북구', 'pm10Grade': '1', 'o3Value': '0.030'}, {'so2Grade': '1', 'coFlag': None, 'khaiValue': '54', 'so2Value': '0.003', 'coValue': '0.4', 'pm25Flag': None, 'pm10Flag': None, 'o3Grade': '2', 'pm10Value': '21', 'khaiGrade': '2', 'pm25Value': '12', 'sidoName': '서울', 'no2Flag': None, 'no2Grade': '1', 'o3Flag': None, 'pm25Grade': '1', 'so2Flag': None, 'dataTime': '2025-09-14 24:00', 'coGrade': '1', 'no2Value': '0.024', 'stationName': '양천구', 'pm10Grade': '1', 'o3Value': '0.034'}, {'so2Grade': '1', 'coFlag': None, 'khaiValue': '48', 'so2Value': '0.002', 'coValue': '0.3', 'pm25Flag': None, 'pm10Flag': None, 'o3Grade': '1', 'pm10Value': '18', 'khaiGrade': '1', 'pm25Value': '9', 'sidoName': '서울', 'no2Flag': None, 'no2Grade': '1', 'o3Flag': None, 'pm25Grade': '1', 'so2Flag': None, 'dataTime': '2025-09-14 24:00', 'coGrade': '1', 'no2Value': '0.014', 'stationName': '노원구', 'pm10Grade': '1', 'o3Value': '0.029'}, {'so2Grade': '1', 'coFlag': None, 'khaiValue': '49', 'so2Value': '0.002', 'coValue': '0.6', 'pm25Flag': None, 'pm10Flag': None, 'o3Grade': '1', 'pm10Value': '26', 'khaiGrade': '1', 'pm25Value': '13', 'sidoName': '서울', 'no2Flag': None, 'no2Grade': '1', 'o3Flag': None, 'pm25Grade': '1', 'so2Flag': None, 'dataTime': '2025-09-14 24:00', 'coGrade': '1', 'no2Value': '0.029', 'stationName': '화랑로', 'pm10Grade': '1', 'o3Value': '0.011'}], 'pageNo': 1, 'numOfRows': 100}, 'header': {'resultMsg': 'NORMAL_CODE', 'resultCode': '00'}}}\n"
          ]
        }
      ]
    },
    {
      "cell_type": "code",
      "source": [
        "import requests\n",
        "\n",
        "## 데이터 수집 url 및 api key 설정\n",
        "url='http://apis.data.go.kr/B552584/ArpltnInforInqireSvc/getCtprvnRltmMesureDnsty'\n",
        "api_key = 'OuIDkksX+217W/DJWb7kQ1aZspb7oxAVsF9mmtx4nuqgZJY6mEp4GE4qeykKNpwVTnf/WNociJKI+j5AySvlyw=='\n",
        "params = {\n",
        "    'serviceKey': api_key,\n",
        "    'returnType': 'json',\n",
        "    'numOfRows': '100',\n",
        "    'pageNo': '1',\n",
        "    'sidoName': '경기',\n",
        "    'ver': '1.0'\n",
        "}\n",
        "\n",
        "## 데이터 수집\n",
        "response = requests.get(url, params=params)\n",
        "#data = response.json()\n",
        "\n",
        "## 데이터 출력\n",
        "print(response.json())\n",
        "## 호출 성공/실패 출력\n"
      ],
      "metadata": {
        "id": "mREB3r0x11f0",
        "outputId": "53174a32-b136-47c2-b63b-75a1faefdd17",
        "colab": {
          "base_uri": "https://localhost:8080/"
        }
      },
      "execution_count": null,
      "outputs": [
        {
          "output_type": "stream",
          "name": "stdout",
          "text": [
            "{'response': {'body': {'totalCount': 125, 'items': [{'so2Grade': '1', 'coFlag': None, 'khaiValue': '58', 'so2Value': '0.002', 'coValue': '0.4', 'pm25Flag': None, 'pm10Flag': None, 'o3Grade': '2', 'pm10Value': '20', 'khaiGrade': '2', 'pm25Value': '14', 'sidoName': '경기', 'no2Flag': None, 'no2Grade': '1', 'o3Flag': None, 'pm25Grade': '1', 'so2Flag': None, 'dataTime': '2025-09-14 24:00', 'coGrade': '1', 'no2Value': '0.011', 'stationName': '소사본동', 'pm10Grade': '1', 'o3Value': '0.039'}, {'so2Grade': '1', 'coFlag': None, 'khaiValue': '54', 'so2Value': '0.003', 'coValue': '0.3', 'pm25Flag': None, 'pm10Flag': None, 'o3Grade': '2', 'pm10Value': '20', 'khaiGrade': '2', 'pm25Value': '9', 'sidoName': '경기', 'no2Flag': None, 'no2Grade': '1', 'o3Flag': None, 'pm25Grade': '1', 'so2Flag': None, 'dataTime': '2025-09-14 24:00', 'coGrade': '1', 'no2Value': '0.011', 'stationName': '내동', 'pm10Grade': '1', 'o3Value': '0.034'}, {'so2Grade': '1', 'coFlag': None, 'khaiValue': '51', 'so2Value': '0.003', 'coValue': '0.3', 'pm25Flag': None, 'pm10Flag': None, 'o3Grade': '2', 'pm10Value': '25', 'khaiGrade': '2', 'pm25Value': '13', 'sidoName': '경기', 'no2Flag': None, 'no2Grade': '1', 'o3Flag': None, 'pm25Grade': '1', 'so2Flag': None, 'dataTime': '2025-09-14 24:00', 'coGrade': '1', 'no2Value': '0.020', 'stationName': '중2동', 'pm10Grade': '1', 'o3Value': '0.030'}, {'so2Grade': '1', 'coFlag': None, 'khaiValue': '65', 'so2Value': '0.003', 'coValue': '0.4', 'pm25Flag': None, 'pm10Flag': None, 'o3Grade': '2', 'pm10Value': '23', 'khaiGrade': '2', 'pm25Value': '6', 'sidoName': '경기', 'no2Flag': None, 'no2Grade': '1', 'o3Flag': None, 'pm25Grade': '1', 'so2Flag': None, 'dataTime': '2025-09-14 24:00', 'coGrade': '1', 'no2Value': '0.011', 'stationName': '오정동', 'pm10Grade': '1', 'o3Value': '0.047'}, {'so2Grade': '1', 'coFlag': None, 'khaiValue': '52', 'so2Value': '0.003', 'coValue': '0.3', 'pm25Flag': None, 'pm10Flag': None, 'o3Grade': '2', 'pm10Value': '26', 'khaiGrade': '2', 'pm25Value': '12', 'sidoName': '경기', 'no2Flag': None, 'no2Grade': '1', 'o3Flag': None, 'pm25Grade': '1', 'so2Flag': None, 'dataTime': '2025-09-14 24:00', 'coGrade': '1', 'no2Value': '0.015', 'stationName': '송내대로(중동)', 'pm10Grade': '1', 'o3Value': '0.032'}, {'so2Grade': '1', 'coFlag': None, 'khaiValue': '53', 'so2Value': '0.002', 'coValue': '0.4', 'pm25Flag': None, 'pm10Flag': None, 'o3Grade': '2', 'pm10Value': '20', 'khaiGrade': '2', 'pm25Value': '8', 'sidoName': '경기', 'no2Flag': None, 'no2Grade': '1', 'o3Flag': None, 'pm25Grade': '1', 'so2Flag': None, 'dataTime': '2025-09-14 24:00', 'coGrade': '1', 'no2Value': '0.008', 'stationName': '상대원동', 'pm10Grade': '1', 'o3Value': '0.032'}, {'so2Grade': '1', 'coFlag': None, 'khaiValue': '40', 'so2Value': '0.003', 'coValue': '0.3', 'pm25Flag': None, 'pm10Flag': None, 'o3Grade': '1', 'pm10Value': '17', 'khaiGrade': '1', 'pm25Value': '13', 'sidoName': '경기', 'no2Flag': None, 'no2Grade': '1', 'o3Flag': None, 'pm25Grade': '1', 'so2Flag': None, 'dataTime': '2025-09-14 24:00', 'coGrade': '1', 'no2Value': '0.011', 'stationName': '의정부동', 'pm10Grade': '1', 'o3Value': '0.022'}, {'so2Grade': '1', 'coFlag': None, 'khaiValue': '30', 'so2Value': '0.003', 'coValue': '0.3', 'pm25Flag': None, 'pm10Flag': None, 'o3Grade': '1', 'pm10Value': '21', 'khaiGrade': '1', 'pm25Value': '13', 'sidoName': '경기', 'no2Flag': None, 'no2Grade': '1', 'o3Flag': None, 'pm25Grade': '1', 'so2Flag': None, 'dataTime': '2025-09-14 24:00', 'coGrade': '1', 'no2Value': '0.011', 'stationName': '의정부1동', 'pm10Grade': '1', 'o3Value': '0.018'}, {'so2Grade': '1', 'coFlag': None, 'khaiValue': '35', 'so2Value': '0.003', 'coValue': '0.4', 'pm25Flag': None, 'pm10Flag': None, 'o3Grade': '1', 'pm10Value': '19', 'khaiGrade': '1', 'pm25Value': '9', 'sidoName': '경기', 'no2Flag': None, 'no2Grade': '1', 'o3Flag': None, 'pm25Grade': '1', 'so2Flag': None, 'dataTime': '2025-09-14 24:00', 'coGrade': '1', 'no2Value': '0.016', 'stationName': '송산3동', 'pm10Grade': '1', 'o3Value': '0.008'}, {'so2Grade': '1', 'coFlag': None, 'khaiValue': '53', 'so2Value': '0.002', 'coValue': '0.4', 'pm25Flag': None, 'pm10Flag': None, 'o3Grade': '2', 'pm10Value': '15', 'khaiGrade': '2', 'pm25Value': '10', 'sidoName': '경기', 'no2Flag': None, 'no2Grade': '1', 'o3Flag': None, 'pm25Grade': '1', 'so2Flag': None, 'dataTime': '2025-09-14 24:00', 'coGrade': '1', 'no2Value': '0.005', 'stationName': '안양8동', 'pm10Grade': '1', 'o3Value': '0.032'}, {'so2Grade': '1', 'coFlag': None, 'khaiValue': '32', 'so2Value': '0.002', 'coValue': '0.4', 'pm25Flag': None, 'pm10Flag': None, 'o3Grade': '1', 'pm10Value': '23', 'khaiGrade': '1', 'pm25Value': '12', 'sidoName': '경기', 'no2Flag': None, 'no2Grade': '1', 'o3Flag': None, 'pm25Grade': '1', 'so2Flag': None, 'dataTime': '2025-09-14 24:00', 'coGrade': '1', 'no2Value': '0.014', 'stationName': '부림동', 'pm10Grade': '1', 'o3Value': '0.017'}, {'so2Grade': '1', 'coFlag': None, 'khaiValue': '-', 'so2Value': '0.003', 'coValue': '0.3', 'pm25Flag': '통신장애', 'pm10Flag': None, 'o3Grade': '1', 'pm10Value': '16', 'khaiGrade': None, 'pm25Value': '-', 'sidoName': '경기', 'no2Flag': None, 'no2Grade': '1', 'o3Flag': None, 'pm25Grade': None, 'so2Flag': None, 'dataTime': '2025-09-14 24:00', 'coGrade': '1', 'no2Value': '0.006', 'stationName': '호계3동', 'pm10Grade': '1', 'o3Value': '0.029'}, {'so2Grade': '1', 'coFlag': None, 'khaiValue': '48', 'so2Value': '0.003', 'coValue': '0.5', 'pm25Flag': None, 'pm10Flag': None, 'o3Grade': '1', 'pm10Value': '20', 'khaiGrade': '1', 'pm25Value': '3', 'sidoName': '경기', 'no2Flag': None, 'no2Grade': '1', 'o3Flag': None, 'pm25Grade': '1', 'so2Flag': None, 'dataTime': '2025-09-14 24:00', 'coGrade': '1', 'no2Value': '0.007', 'stationName': '안양2동', 'pm10Grade': '1', 'o3Value': '0.029'}, {'so2Grade': '1', 'coFlag': None, 'khaiValue': '38', 'so2Value': '0.002', 'coValue': '0.8', 'pm25Flag': None, 'pm10Flag': None, 'o3Grade': '1', 'pm10Value': '21', 'khaiGrade': '1', 'pm25Value': '9', 'sidoName': '경기', 'no2Flag': None, 'no2Grade': '1', 'o3Flag': None, 'pm25Grade': '1', 'so2Flag': None, 'dataTime': '2025-09-14 24:00', 'coGrade': '1', 'no2Value': '0.019', 'stationName': '철산동', 'pm10Grade': '1', 'o3Value': '0.023'}, {'so2Grade': '1', 'coFlag': None, 'khaiValue': '51', 'so2Value': '0.002', 'coValue': '0.4', 'pm25Flag': None, 'pm10Flag': None, 'o3Grade': '2', 'pm10Value': '40', 'khaiGrade': '2', 'pm25Value': '22', 'sidoName': '경기', 'no2Flag': None, 'no2Grade': '1', 'o3Flag': None, 'pm25Grade': '1', 'so2Flag': None, 'dataTime': '2025-09-14 24:00', 'coGrade': '1', 'no2Value': '0.017', 'stationName': '소하동', 'pm10Grade': '1', 'o3Value': '0.030'}, {'so2Grade': '1', 'coFlag': None, 'khaiValue': '45', 'so2Value': '0.002', 'coValue': '0.4', 'pm25Flag': None, 'pm10Flag': None, 'o3Grade': '1', 'pm10Value': '25', 'khaiGrade': '1', 'pm25Value': '0', 'sidoName': '경기', 'no2Flag': None, 'no2Grade': '1', 'o3Flag': None, 'pm25Grade': '1', 'so2Flag': None, 'dataTime': '2025-09-14 24:00', 'coGrade': '1', 'no2Value': '0.027', 'stationName': '고잔동', 'pm10Grade': '1', 'o3Value': '0.013'}, {'so2Grade': '1', 'coFlag': None, 'khaiValue': '59', 'so2Value': '0.004', 'coValue': '0.2', 'pm25Flag': None, 'pm10Flag': None, 'o3Grade': '2', 'pm10Value': '25', 'khaiGrade': '2', 'pm25Value': '19', 'sidoName': '경기', 'no2Flag': None, 'no2Grade': '1', 'o3Flag': None, 'pm25Grade': '1', 'so2Flag': None, 'dataTime': '2025-09-14 24:00', 'coGrade': '1', 'no2Value': '0.010', 'stationName': '초지동', 'pm10Grade': '1', 'o3Value': '0.040'}, {'so2Grade': '1', 'coFlag': None, 'khaiValue': '30', 'so2Value': '0.002', 'coValue': '0.4', 'pm25Flag': None, 'pm10Flag': None, 'o3Grade': '1', 'pm10Value': '18', 'khaiGrade': '1', 'pm25Value': '9', 'sidoName': '경기', 'no2Flag': None, 'no2Grade': '1', 'o3Flag': None, 'pm25Grade': '1', 'so2Flag': None, 'dataTime': '2025-09-14 24:00', 'coGrade': '1', 'no2Value': '0.018', 'stationName': '본오동', 'pm10Grade': '1', 'o3Value': '0.008'}, {'so2Grade': '1', 'coFlag': None, 'khaiValue': '40', 'so2Value': '0.002', 'coValue': '0.6', 'pm25Flag': None, 'pm10Flag': None, 'o3Grade': '1', 'pm10Value': '23', 'khaiGrade': '1', 'pm25Value': '16', 'sidoName': '경기', 'no2Flag': None, 'no2Grade': '1', 'o3Flag': None, 'pm25Grade': '1', 'so2Flag': None, 'dataTime': '2025-09-14 24:00', 'coGrade': '1', 'no2Value': '0.013', 'stationName': '원곡동', 'pm10Grade': '1', 'o3Value': '0.014'}, {'so2Grade': '1', 'coFlag': None, 'khaiValue': '53', 'so2Value': '0.002', 'coValue': '0.4', 'pm25Flag': None, 'pm10Flag': None, 'o3Grade': '1', 'pm10Value': '29', 'khaiGrade': '2', 'pm25Value': '16', 'sidoName': '경기', 'no2Flag': None, 'no2Grade': '2', 'o3Flag': None, 'pm25Grade': '1', 'so2Flag': None, 'dataTime': '2025-09-14 24:00', 'coGrade': '1', 'no2Value': '0.031', 'stationName': '부곡동1', 'pm10Grade': '1', 'o3Value': '0.004'}, {'so2Grade': '1', 'coFlag': None, 'khaiValue': '48', 'so2Value': '0.002', 'coValue': '0.3', 'pm25Flag': '통신장애', 'pm10Flag': None, 'o3Grade': '1', 'pm10Value': '17', 'khaiGrade': '1', 'pm25Value': '-', 'sidoName': '경기', 'no2Flag': None, 'no2Grade': '1', 'o3Flag': None, 'pm25Grade': '1', 'so2Flag': None, 'dataTime': '2025-09-14 24:00', 'coGrade': '1', 'no2Value': '0.007', 'stationName': '대부동', 'pm10Grade': '1', 'o3Value': '0.029'}, {'so2Grade': '1', 'coFlag': None, 'khaiValue': '50', 'so2Value': '0.003', 'coValue': '0.3', 'pm25Flag': None, 'pm10Flag': None, 'o3Grade': '1', 'pm10Value': '16', 'khaiGrade': '1', 'pm25Value': '11', 'sidoName': '경기', 'no2Flag': None, 'no2Grade': '1', 'o3Flag': None, 'pm25Grade': '1', 'so2Flag': None, 'dataTime': '2025-09-14 24:00', 'coGrade': '1', 'no2Value': '0.015', 'stationName': '호수동', 'pm10Grade': '1', 'o3Value': '0.030'}, {'so2Grade': '1', 'coFlag': None, 'khaiValue': '52', 'so2Value': '0.002', 'coValue': '0.5', 'pm25Flag': None, 'pm10Flag': None, 'o3Grade': '1', 'pm10Value': '20', 'khaiGrade': '2', 'pm25Value': '14', 'sidoName': '경기', 'no2Flag': None, 'no2Grade': '2', 'o3Flag': None, 'pm25Grade': '1', 'so2Flag': None, 'dataTime': '2025-09-14 24:00', 'coGrade': '1', 'no2Value': '0.031', 'stationName': '중앙대로(고잔동)', 'pm10Grade': '1', 'o3Value': '0.006'}, {'so2Grade': '1', 'coFlag': None, 'khaiValue': '37', 'so2Value': '0.002', 'coValue': '0.4', 'pm25Flag': None, 'pm10Flag': None, 'o3Grade': '1', 'pm10Value': '21', 'khaiGrade': '1', 'pm25Value': '13', 'sidoName': '경기', 'no2Flag': None, 'no2Grade': '1', 'o3Flag': None, 'pm25Grade': '1', 'so2Flag': None, 'dataTime': '2025-09-14 24:00', 'coGrade': '1', 'no2Value': '0.016', 'stationName': '별양동', 'pm10Grade': '1', 'o3Value': '0.021'}, {'so2Grade': '1', 'coFlag': None, 'khaiValue': '32', 'so2Value': '0.002', 'coValue': '0.5', 'pm25Flag': None, 'pm10Flag': None, 'o3Grade': '1', 'pm10Value': '25', 'khaiGrade': '1', 'pm25Value': '10', 'sidoName': '경기', 'no2Flag': None, 'no2Grade': '1', 'o3Flag': None, 'pm25Grade': '1', 'so2Flag': None, 'dataTime': '2025-09-14 24:00', 'coGrade': '1', 'no2Value': '0.018', 'stationName': '과천동', 'pm10Grade': '1', 'o3Value': '0.010'}, {'so2Grade': '1', 'coFlag': None, 'khaiValue': '-', 'so2Value': '0.003', 'coValue': '0.3', 'pm25Flag': None, 'pm10Flag': None, 'o3Grade': '1', 'pm10Value': '15', 'khaiGrade': None, 'pm25Value': '7', 'sidoName': '경기', 'no2Flag': None, 'no2Grade': '1', 'o3Flag': None, 'pm25Grade': None, 'so2Flag': None, 'dataTime': '2025-09-14 24:00', 'coGrade': '1', 'no2Value': '0.013', 'stationName': '교문동', 'pm10Grade': '1', 'o3Value': '0.022'}, {'so2Grade': '1', 'coFlag': None, 'khaiValue': '37', 'so2Value': '0.003', 'coValue': '0.3', 'pm25Flag': None, 'pm10Flag': None, 'o3Grade': '1', 'pm10Value': '22', 'khaiGrade': '1', 'pm25Value': '14', 'sidoName': '경기', 'no2Flag': None, 'no2Grade': '1', 'o3Flag': None, 'pm25Grade': '1', 'so2Flag': None, 'dataTime': '2025-09-14 24:00', 'coGrade': '1', 'no2Value': '0.013', 'stationName': '동구동', 'pm10Grade': '1', 'o3Value': '0.010'}, {'so2Grade': '1', 'coFlag': None, 'khaiValue': '51', 'so2Value': '0.002', 'coValue': '0.6', 'pm25Flag': None, 'pm10Flag': None, 'o3Grade': '1', 'pm10Value': '21', 'khaiGrade': '2', 'pm25Value': '18', 'sidoName': '경기', 'no2Flag': None, 'no2Grade': '2', 'o3Flag': None, 'pm25Grade': '1', 'so2Flag': None, 'dataTime': '2025-09-14 24:00', 'coGrade': '1', 'no2Value': '0.030', 'stationName': '부곡3동', 'pm10Grade': '1', 'o3Value': '0.008'}, {'so2Grade': '1', 'coFlag': None, 'khaiValue': '31', 'so2Value': '0.002', 'coValue': '0.4', 'pm25Flag': None, 'pm10Flag': None, 'o3Grade': '1', 'pm10Value': '19', 'khaiGrade': '1', 'pm25Value': '8', 'sidoName': '경기', 'no2Flag': None, 'no2Grade': '1', 'o3Flag': None, 'pm25Grade': '1', 'so2Flag': None, 'dataTime': '2025-09-14 24:00', 'coGrade': '1', 'no2Value': '0.018', 'stationName': '고천동', 'pm10Grade': '1', 'o3Value': '0.009'}, {'so2Grade': '1', 'coFlag': None, 'khaiValue': '46', 'so2Value': '0.003', 'coValue': '0.4', 'pm25Flag': None, 'pm10Flag': None, 'o3Grade': '1', 'pm10Value': '16', 'khaiGrade': '1', 'pm25Value': '17', 'sidoName': '경기', 'no2Flag': None, 'no2Grade': '1', 'o3Flag': None, 'pm25Grade': '1', 'so2Flag': None, 'dataTime': '2025-09-14 24:00', 'coGrade': '1', 'no2Value': '0.020', 'stationName': '정왕동', 'pm10Grade': '1', 'o3Value': '0.027'}, {'so2Grade': '1', 'coFlag': None, 'khaiValue': '65', 'so2Value': '0.006', 'coValue': '0.3', 'pm25Flag': None, 'pm10Flag': None, 'o3Grade': '2', 'pm10Value': '26', 'khaiGrade': '2', 'pm25Value': '19', 'sidoName': '경기', 'no2Flag': None, 'no2Grade': '1', 'o3Flag': None, 'pm25Grade': '1', 'so2Flag': None, 'dataTime': '2025-09-14 24:00', 'coGrade': '1', 'no2Value': '0.003', 'stationName': '시화산단', 'pm10Grade': '1', 'o3Value': '0.048'}, {'so2Grade': '1', 'coFlag': None, 'khaiValue': '38', 'so2Value': '0.003', 'coValue': '0.4', 'pm25Flag': None, 'pm10Flag': None, 'o3Grade': '1', 'pm10Value': '27', 'khaiGrade': '1', 'pm25Value': '10', 'sidoName': '경기', 'no2Flag': None, 'no2Grade': '1', 'o3Flag': None, 'pm25Grade': '1', 'so2Flag': None, 'dataTime': '2025-09-14 24:00', 'coGrade': '1', 'no2Value': '0.022', 'stationName': '대야동', 'pm10Grade': '1', 'o3Value': '0.023'}, {'so2Grade': '1', 'coFlag': None, 'khaiValue': '55', 'so2Value': '0.004', 'coValue': '0.5', 'pm25Flag': None, 'pm10Flag': None, 'o3Grade': '1', 'pm10Value': '33', 'khaiGrade': '2', 'pm25Value': '11', 'sidoName': '경기', 'no2Flag': None, 'no2Grade': '2', 'o3Flag': None, 'pm25Grade': '1', 'so2Flag': None, 'dataTime': '2025-09-14 24:00', 'coGrade': '1', 'no2Value': '0.033', 'stationName': '목감동', 'pm10Grade': '1', 'o3Value': '0.002'}, {'so2Grade': '1', 'coFlag': None, 'khaiValue': '33', 'so2Value': '0.003', 'coValue': '0.4', 'pm25Flag': None, 'pm10Flag': None, 'o3Grade': '1', 'pm10Value': '22', 'khaiGrade': '1', 'pm25Value': '12', 'sidoName': '경기', 'no2Flag': None, 'no2Grade': '1', 'o3Flag': None, 'pm25Grade': '1', 'so2Flag': None, 'dataTime': '2025-09-14 24:00', 'coGrade': '1', 'no2Value': '0.011', 'stationName': '장현동', 'pm10Grade': '1', 'o3Value': '0.019'}, {'so2Grade': '1', 'coFlag': None, 'khaiValue': '58', 'so2Value': '0.003', 'coValue': '0.3', 'pm25Flag': None, 'pm10Flag': None, 'o3Grade': '2', 'pm10Value': '11', 'khaiGrade': '2', 'pm25Value': '11', 'sidoName': '경기', 'no2Flag': None, 'no2Grade': '1', 'o3Flag': None, 'pm25Grade': '1', 'so2Flag': None, 'dataTime': '2025-09-14 24:00', 'coGrade': '1', 'no2Value': '0.010', 'stationName': '서해안로', 'pm10Grade': '1', 'o3Value': '0.039'}, {'so2Grade': '1', 'coFlag': None, 'khaiValue': '46', 'so2Value': '0.003', 'coValue': '0.3', 'pm25Flag': None, 'pm10Flag': None, 'o3Grade': '1', 'pm10Value': '24', 'khaiGrade': '1', 'pm25Value': '11', 'sidoName': '경기', 'no2Flag': None, 'no2Grade': '1', 'o3Flag': None, 'pm25Grade': '1', 'so2Flag': None, 'dataTime': '2025-09-14 24:00', 'coGrade': '1', 'no2Value': '0.015', 'stationName': '배곧동', 'pm10Grade': '1', 'o3Value': '0.027'}, {'so2Grade': '1', 'coFlag': None, 'khaiValue': '38', 'so2Value': '0.002', 'coValue': '0.4', 'pm25Flag': None, 'pm10Flag': None, 'o3Grade': '1', 'pm10Value': '25', 'khaiGrade': '1', 'pm25Value': '9', 'sidoName': '경기', 'no2Flag': None, 'no2Grade': '1', 'o3Flag': None, 'pm25Grade': '1', 'so2Flag': None, 'dataTime': '2025-09-14 24:00', 'coGrade': '1', 'no2Value': '0.021', 'stationName': '금곡동', 'pm10Grade': '1', 'o3Value': '0.014'}, {'so2Grade': '1', 'coFlag': None, 'khaiValue': '40', 'so2Value': '0.003', 'coValue': '0.3', 'pm25Flag': None, 'pm10Flag': None, 'o3Grade': '1', 'pm10Value': '20', 'khaiGrade': '1', 'pm25Value': '10', 'sidoName': '경기', 'no2Flag': None, 'no2Grade': '1', 'o3Flag': None, 'pm25Grade': '1', 'so2Flag': None, 'dataTime': '2025-09-14 24:00', 'coGrade': '1', 'no2Value': '0.007', 'stationName': '오남읍', 'pm10Grade': '1', 'o3Value': '0.024'}, {'so2Grade': '1', 'coFlag': None, 'khaiValue': '37', 'so2Value': '0.003', 'coValue': '0.4', 'pm25Flag': None, 'pm10Flag': None, 'o3Grade': '1', 'pm10Value': '22', 'khaiGrade': '1', 'pm25Value': '13', 'sidoName': '경기', 'no2Flag': None, 'no2Grade': '1', 'o3Flag': None, 'pm25Grade': '1', 'so2Flag': None, 'dataTime': '2025-09-14 24:00', 'coGrade': '1', 'no2Value': '0.018', 'stationName': '별내동', 'pm10Grade': '1', 'o3Value': '0.011'}, {'so2Grade': '1', 'coFlag': None, 'khaiValue': '50', 'so2Value': '0.003', 'coValue': '0.3', 'pm25Flag': None, 'pm10Flag': None, 'o3Grade': '1', 'pm10Value': '21', 'khaiGrade': '1', 'pm25Value': '16', 'sidoName': '경기', 'no2Flag': None, 'no2Grade': '1', 'o3Flag': None, 'pm25Grade': '1', 'so2Flag': None, 'dataTime': '2025-09-14 24:00', 'coGrade': '1', 'no2Value': '0.009', 'stationName': '화도읍', 'pm10Grade': '1', 'o3Value': '0.017'}, {'so2Grade': '1', 'coFlag': None, 'khaiValue': '38', 'so2Value': '0.003', 'coValue': '0.5', 'pm25Flag': None, 'pm10Flag': None, 'o3Grade': '1', 'pm10Value': '27', 'khaiGrade': '1', 'pm25Value': '9', 'sidoName': '경기', 'no2Flag': None, 'no2Grade': '1', 'o3Flag': None, 'pm25Grade': '1', 'so2Flag': None, 'dataTime': '2025-09-14 24:00', 'coGrade': '1', 'no2Value': '0.015', 'stationName': '경춘로', 'pm10Grade': '1', 'o3Value': '0.009'}, {'so2Grade': '1', 'coFlag': None, 'khaiValue': '30', 'so2Value': '0.002', 'coValue': '0.4', 'pm25Flag': None, 'pm10Flag': None, 'o3Grade': '1', 'pm10Value': '20', 'khaiGrade': '1', 'pm25Value': '9', 'sidoName': '경기', 'no2Flag': None, 'no2Grade': '1', 'o3Flag': None, 'pm25Grade': '1', 'so2Flag': None, 'dataTime': '2025-09-14 24:00', 'coGrade': '1', 'no2Value': '0.013', 'stationName': '와부읍', 'pm10Grade': '1', 'o3Value': '0.014'}, {'so2Grade': '1', 'coFlag': None, 'khaiValue': '29', 'so2Value': '0.002', 'coValue': '0.2', 'pm25Flag': None, 'pm10Flag': None, 'o3Grade': '1', 'pm10Value': '19', 'khaiGrade': '1', 'pm25Value': '7', 'sidoName': '경기', 'no2Flag': None, 'no2Grade': '1', 'o3Flag': None, 'pm25Grade': '1', 'so2Flag': None, 'dataTime': '2025-09-14 24:00', 'coGrade': '1', 'no2Value': '0.006', 'stationName': '진접읍', 'pm10Grade': '1', 'o3Value': '0.017'}, {'so2Grade': '1', 'coFlag': None, 'khaiValue': '69', 'so2Value': '0.003', 'coValue': '0.4', 'pm25Flag': None, 'pm10Flag': None, 'o3Grade': '1', 'pm10Value': '38', 'khaiGrade': '2', 'pm25Value': '28', 'sidoName': '경기', 'no2Flag': None, 'no2Grade': '1', 'o3Flag': None, 'pm25Grade': '2', 'so2Flag': None, 'dataTime': '2025-09-14 24:00', 'coGrade': '1', 'no2Value': '0.019', 'stationName': '비전동', 'pm10Grade': '1', 'o3Value': '0.015'}, {'so2Grade': '1', 'coFlag': None, 'khaiValue': '64', 'so2Value': '0.003', 'coValue': '0.3', 'pm25Flag': None, 'pm10Flag': None, 'o3Grade': '2', 'pm10Value': '41', 'khaiGrade': '2', 'pm25Value': '23', 'sidoName': '경기', 'no2Flag': None, 'no2Grade': '1', 'o3Flag': None, 'pm25Grade': '2', 'so2Flag': None, 'dataTime': '2025-09-14 24:00', 'coGrade': '1', 'no2Value': '0.012', 'stationName': '안중', 'pm10Grade': '2', 'o3Value': '0.036'}, {'so2Grade': '1', 'coFlag': None, 'khaiValue': '52', 'so2Value': '0.003', 'coValue': '0.4', 'pm25Flag': None, 'pm10Flag': None, 'o3Grade': '2', 'pm10Value': '34', 'khaiGrade': '2', 'pm25Value': '23', 'sidoName': '경기', 'no2Flag': None, 'no2Grade': '1', 'o3Flag': None, 'pm25Grade': '1', 'so2Flag': None, 'dataTime': '2025-09-14 24:00', 'coGrade': '1', 'no2Value': '0.021', 'stationName': '평택항', 'pm10Grade': '1', 'o3Value': '0.032'}, {'so2Grade': '1', 'coFlag': None, 'khaiValue': '51', 'so2Value': '0.002', 'coValue': '0.4', 'pm25Flag': None, 'pm10Flag': None, 'o3Grade': '1', 'pm10Value': '30', 'khaiGrade': '2', 'pm25Value': '22', 'sidoName': '경기', 'no2Flag': None, 'no2Grade': '1', 'o3Flag': None, 'pm25Grade': '2', 'so2Flag': None, 'dataTime': '2025-09-14 24:00', 'coGrade': '1', 'no2Value': '0.012', 'stationName': '송북동', 'pm10Grade': '1', 'o3Value': '0.015'}, {'so2Grade': '1', 'coFlag': None, 'khaiValue': '54', 'so2Value': '0.002', 'coValue': '0.3', 'pm25Flag': None, 'pm10Flag': None, 'o3Grade': '1', 'pm10Value': '25', 'khaiGrade': '2', 'pm25Value': '14', 'sidoName': '경기', 'no2Flag': None, 'no2Grade': '1', 'o3Flag': None, 'pm25Grade': '2', 'so2Flag': None, 'dataTime': '2025-09-14 24:00', 'coGrade': '1', 'no2Value': '0.010', 'stationName': '청북읍', 'pm10Grade': '1', 'o3Value': '0.019'}, {'so2Grade': '1', 'coFlag': None, 'khaiValue': '61', 'so2Value': '0.002', 'coValue': '0.3', 'pm25Flag': None, 'pm10Flag': None, 'o3Grade': '2', 'pm10Value': '28', 'khaiGrade': '2', 'pm25Value': '22', 'sidoName': '경기', 'no2Flag': None, 'no2Grade': '1', 'o3Flag': None, 'pm25Grade': '2', 'so2Flag': None, 'dataTime': '2025-09-14 24:00', 'coGrade': '1', 'no2Value': '0.007', 'stationName': '고덕동', 'pm10Grade': '2', 'o3Value': '0.042'}, {'so2Grade': '1', 'coFlag': None, 'khaiValue': '40', 'so2Value': '0.002', 'coValue': '0.4', 'pm25Flag': None, 'pm10Flag': None, 'o3Grade': '1', 'pm10Value': '15', 'khaiGrade': '1', 'pm25Value': '9', 'sidoName': '경기', 'no2Flag': None, 'no2Grade': '1', 'o3Flag': None, 'pm25Grade': '1', 'so2Flag': None, 'dataTime': '2025-09-14 24:00', 'coGrade': '1', 'no2Value': '0.010', 'stationName': '금촌동', 'pm10Grade': '1', 'o3Value': '0.024'}, {'so2Grade': '1', 'coFlag': None, 'khaiValue': '30', 'so2Value': '0.001', 'coValue': '0.5', 'pm25Flag': None, 'pm10Flag': None, 'o3Grade': '1', 'pm10Value': '11', 'khaiGrade': '1', 'pm25Value': '8', 'sidoName': '경기', 'no2Flag': None, 'no2Grade': '1', 'o3Flag': None, 'pm25Grade': '1', 'so2Flag': None, 'dataTime': '2025-09-14 24:00', 'coGrade': '1', 'no2Value': '0.015', 'stationName': '운정', 'pm10Grade': '1', 'o3Value': '0.018'}, {'so2Grade': '1', 'coFlag': None, 'khaiValue': '23', 'so2Value': '0.002', 'coValue': '0.2', 'pm25Flag': None, 'pm10Flag': None, 'o3Grade': '1', 'pm10Value': '10', 'khaiGrade': '1', 'pm25Value': '10', 'sidoName': '경기', 'no2Flag': None, 'no2Grade': '1', 'o3Flag': None, 'pm25Grade': '1', 'so2Flag': None, 'dataTime': '2025-09-14 24:00', 'coGrade': '1', 'no2Value': '0.004', 'stationName': '파주', 'pm10Grade': '1', 'o3Value': '0.013'}, {'so2Grade': '1', 'coFlag': None, 'khaiValue': '28', 'so2Value': '0.001', 'coValue': '0.2', 'pm25Flag': None, 'pm10Flag': None, 'o3Grade': '1', 'pm10Value': '15', 'khaiGrade': '1', 'pm25Value': '3', 'sidoName': '경기', 'no2Flag': None, 'no2Grade': '1', 'o3Flag': None, 'pm25Grade': '1', 'so2Flag': None, 'dataTime': '2025-09-14 24:00', 'coGrade': '1', 'no2Value': '0.002', 'stationName': '파주읍', 'pm10Grade': '1', 'o3Value': '0.017'}, {'so2Grade': '1', 'coFlag': None, 'khaiValue': '30', 'so2Value': '0.003', 'coValue': '0.3', 'pm25Flag': None, 'pm10Flag': None, 'o3Grade': '1', 'pm10Value': '26', 'khaiGrade': '1', 'pm25Value': '10', 'sidoName': '경기', 'no2Flag': None, 'no2Grade': '1', 'o3Flag': None, 'pm25Grade': '1', 'so2Flag': None, 'dataTime': '2025-09-14 24:00', 'coGrade': '1', 'no2Value': '0.016', 'stationName': '행신동', 'pm10Grade': '1', 'o3Value': '0.009'}, {'so2Grade': '1', 'coFlag': None, 'khaiValue': '30', 'so2Value': '0.003', 'coValue': '0.3', 'pm25Flag': None, 'pm10Flag': None, 'o3Grade': '1', 'pm10Value': '27', 'khaiGrade': '1', 'pm25Value': '9', 'sidoName': '경기', 'no2Flag': None, 'no2Grade': '1', 'o3Flag': None, 'pm25Grade': '1', 'so2Flag': None, 'dataTime': '2025-09-14 24:00', 'coGrade': '1', 'no2Value': '0.017', 'stationName': '식사동', 'pm10Grade': '1', 'o3Value': '0.015'}, {'so2Grade': '1', 'coFlag': None, 'khaiValue': '39', 'so2Value': '0.002', 'coValue': '0.3', 'pm25Flag': None, 'pm10Flag': None, 'o3Grade': '1', 'pm10Value': '18', 'khaiGrade': '1', 'pm25Value': '5', 'sidoName': '경기', 'no2Flag': None, 'no2Grade': '1', 'o3Flag': None, 'pm25Grade': None, 'so2Flag': None, 'dataTime': '2025-09-14 24:00', 'coGrade': '1', 'no2Value': '0.016', 'stationName': '백마로(마두역)', 'pm10Grade': '1', 'o3Value': '0.023'}, {'so2Grade': '1', 'coFlag': None, 'khaiValue': '37', 'so2Value': '0.003', 'coValue': '0.4', 'pm25Flag': None, 'pm10Flag': None, 'o3Grade': '1', 'pm10Value': '16', 'khaiGrade': '1', 'pm25Value': '14', 'sidoName': '경기', 'no2Flag': None, 'no2Grade': '1', 'o3Flag': None, 'pm25Grade': '1', 'so2Flag': None, 'dataTime': '2025-09-14 24:00', 'coGrade': '1', 'no2Value': '0.009', 'stationName': '신원동', 'pm10Grade': '1', 'o3Value': '0.010'}, {'so2Grade': '1', 'coFlag': None, 'khaiValue': '66', 'so2Value': '0.003', 'coValue': '0.2', 'pm25Flag': None, 'pm10Flag': None, 'o3Grade': '2', 'pm10Value': '16', 'khaiGrade': '2', 'pm25Value': '7', 'sidoName': '경기', 'no2Flag': None, 'no2Grade': '1', 'o3Flag': None, 'pm25Grade': '1', 'so2Flag': None, 'dataTime': '2025-09-14 24:00', 'coGrade': '1', 'no2Value': '0.005', 'stationName': '주엽동', 'pm10Grade': '1', 'o3Value': '0.049'}, {'so2Grade': '1', 'coFlag': None, 'khaiValue': '35', 'so2Value': '0.002', 'coValue': '0.4', 'pm25Flag': None, 'pm10Flag': None, 'o3Grade': '1', 'pm10Value': '27', 'khaiGrade': '1', 'pm25Value': '12', 'sidoName': '경기', 'no2Flag': None, 'no2Grade': '1', 'o3Flag': None, 'pm25Grade': '1', 'so2Flag': None, 'dataTime': '2025-09-14 24:00', 'coGrade': '1', 'no2Value': '0.011', 'stationName': '경안동', 'pm10Grade': '1', 'o3Value': '0.017'}, {'so2Grade': '1', 'coFlag': None, 'khaiValue': '35', 'so2Value': '0.002', 'coValue': '0.4', 'pm25Flag': None, 'pm10Flag': None, 'o3Grade': '1', 'pm10Value': '26', 'khaiGrade': '1', 'pm25Value': '11', 'sidoName': '경기', 'no2Flag': None, 'no2Grade': '1', 'o3Flag': None, 'pm25Grade': '1', 'so2Flag': None, 'dataTime': '2025-09-14 24:00', 'coGrade': '1', 'no2Value': '0.011', 'stationName': '오포1동', 'pm10Grade': '1', 'o3Value': '0.010'}, {'so2Grade': '1', 'coFlag': None, 'khaiValue': '-', 'so2Value': '0.001', 'coValue': '0.5', 'pm25Flag': '통신장애', 'pm10Flag': None, 'o3Grade': '1', 'pm10Value': '22', 'khaiGrade': None, 'pm25Value': '-', 'sidoName': '경기', 'no2Flag': None, 'no2Grade': '1', 'o3Flag': None, 'pm25Grade': None, 'so2Flag': None, 'dataTime': '2025-09-14 24:00', 'coGrade': '1', 'no2Value': '0.009', 'stationName': '곤지암', 'pm10Grade': '1', 'o3Value': '0.011'}, {'so2Grade': '1', 'coFlag': None, 'khaiValue': '40', 'so2Value': '0.001', 'coValue': '0.4', 'pm25Flag': None, 'pm10Flag': None, 'o3Grade': '1', 'pm10Value': '18', 'khaiGrade': '1', 'pm25Value': '15', 'sidoName': '경기', 'no2Flag': None, 'no2Grade': '1', 'o3Flag': None, 'pm25Grade': '1', 'so2Flag': None, 'dataTime': '2025-09-14 24:00', 'coGrade': '1', 'no2Value': '0.010', 'stationName': '김량장동', 'pm10Grade': '1', 'o3Value': '0.008'}, {'so2Grade': '1', 'coFlag': None, 'khaiValue': '37', 'so2Value': '0.001', 'coValue': '0.5', 'pm25Flag': None, 'pm10Flag': None, 'o3Grade': '1', 'pm10Value': '17', 'khaiGrade': '1', 'pm25Value': '12', 'sidoName': '경기', 'no2Flag': None, 'no2Grade': '1', 'o3Flag': None, 'pm25Grade': '1', 'so2Flag': None, 'dataTime': '2025-09-14 24:00', 'coGrade': '1', 'no2Value': '0.013', 'stationName': '수지', 'pm10Grade': '1', 'o3Value': '0.021'}, {'so2Grade': '1', 'coFlag': None, 'khaiValue': '42', 'so2Value': '0.002', 'coValue': '0.7', 'pm25Flag': None, 'pm10Flag': None, 'o3Grade': '1', 'pm10Value': '18', 'khaiGrade': '1', 'pm25Value': '12', 'sidoName': '경기', 'no2Flag': None, 'no2Grade': '1', 'o3Flag': None, 'pm25Grade': '1', 'so2Flag': None, 'dataTime': '2025-09-14 24:00', 'coGrade': '1', 'no2Value': '0.025', 'stationName': '기흥', 'pm10Grade': '1', 'o3Value': '0.003'}, {'so2Grade': '1', 'coFlag': None, 'khaiValue': '40', 'so2Value': '0.002', 'coValue': '0.5', 'pm25Flag': None, 'pm10Flag': None, 'o3Grade': '1', 'pm10Value': '23', 'khaiGrade': '1', 'pm25Value': '18', 'sidoName': '경기', 'no2Flag': None, 'no2Grade': '1', 'o3Flag': None, 'pm25Grade': '1', 'so2Flag': None, 'dataTime': '2025-09-14 24:00', 'coGrade': '1', 'no2Value': '0.018', 'stationName': '중부대로(구갈동)', 'pm10Grade': '1', 'o3Value': '0.007'}, {'so2Grade': '1', 'coFlag': None, 'khaiValue': '25', 'so2Value': '0.001', 'coValue': '0.4', 'pm25Flag': None, 'pm10Flag': None, 'o3Grade': '1', 'pm10Value': '19', 'khaiGrade': '1', 'pm25Value': '5', 'sidoName': '경기', 'no2Flag': None, 'no2Grade': '1', 'o3Flag': None, 'pm25Grade': '1', 'so2Flag': None, 'dataTime': '2025-09-14 24:00', 'coGrade': '1', 'no2Value': '0.006', 'stationName': '모현읍', 'pm10Grade': '1', 'o3Value': '0.010'}, {'so2Grade': '1', 'coFlag': None, 'khaiValue': '43', 'so2Value': '0.001', 'coValue': '0.6', 'pm25Flag': None, 'pm10Flag': None, 'o3Grade': '1', 'pm10Value': '24', 'khaiGrade': '1', 'pm25Value': '12', 'sidoName': '경기', 'no2Flag': None, 'no2Grade': '1', 'o3Flag': None, 'pm25Grade': '1', 'so2Flag': None, 'dataTime': '2025-09-14 24:00', 'coGrade': '1', 'no2Value': '0.008', 'stationName': '이동읍', 'pm10Grade': '1', 'o3Value': '0.005'}, {'so2Grade': '1', 'coFlag': None, 'khaiValue': '33', 'so2Value': '0.001', 'coValue': '0.4', 'pm25Flag': None, 'pm10Flag': None, 'o3Grade': '1', 'pm10Value': '25', 'khaiGrade': '1', 'pm25Value': '13', 'sidoName': '경기', 'no2Flag': None, 'no2Grade': '1', 'o3Flag': None, 'pm25Grade': '1', 'so2Flag': None, 'dataTime': '2025-09-14 24:00', 'coGrade': '1', 'no2Value': '0.006', 'stationName': '백암면', 'pm10Grade': '1', 'o3Value': '0.005'}, {'so2Grade': '1', 'coFlag': None, 'khaiValue': '40', 'so2Value': '0.002', 'coValue': '0.4', 'pm25Flag': None, 'pm10Flag': None, 'o3Grade': '1', 'pm10Value': '24', 'khaiGrade': '1', 'pm25Value': '13', 'sidoName': '경기', 'no2Flag': None, 'no2Grade': '1', 'o3Flag': None, 'pm25Grade': '1', 'so2Flag': None, 'dataTime': '2025-09-14 24:00', 'coGrade': '1', 'no2Value': '0.006', 'stationName': '설성면', 'pm10Grade': '1', 'o3Value': '0.010'}, {'so2Grade': '1', 'coFlag': None, 'khaiValue': '47', 'so2Value': '0.003', 'coValue': '0.3', 'pm25Flag': None, 'pm10Flag': None, 'o3Grade': '1', 'pm10Value': '22', 'khaiGrade': '1', 'pm25Value': '17', 'sidoName': '경기', 'no2Flag': None, 'no2Grade': '1', 'o3Flag': None, 'pm25Grade': '1', 'so2Flag': None, 'dataTime': '2025-09-14 24:00', 'coGrade': '1', 'no2Value': '0.014', 'stationName': '창전동', 'pm10Grade': '1', 'o3Value': '0.014'}, {'so2Grade': '1', 'coFlag': None, 'khaiValue': '59', 'so2Value': '0.003', 'coValue': '0.3', 'pm25Flag': None, 'pm10Flag': None, 'o3Grade': '1', 'pm10Value': '25', 'khaiGrade': '2', 'pm25Value': '15', 'sidoName': '경기', 'no2Flag': None, 'no2Grade': '1', 'o3Flag': None, 'pm25Grade': '2', 'so2Flag': None, 'dataTime': '2025-09-14 24:00', 'coGrade': '1', 'no2Value': '0.007', 'stationName': '장호원읍', 'pm10Grade': '1', 'o3Value': '0.007'}, {'so2Grade': '1', 'coFlag': None, 'khaiValue': '47', 'so2Value': '0.003', 'coValue': '0.3', 'pm25Flag': None, 'pm10Flag': None, 'o3Grade': '1', 'pm10Value': '28', 'khaiGrade': '1', 'pm25Value': '16', 'sidoName': '경기', 'no2Flag': None, 'no2Grade': '1', 'o3Flag': None, 'pm25Grade': '1', 'so2Flag': None, 'dataTime': '2025-09-14 24:00', 'coGrade': '1', 'no2Value': '0.016', 'stationName': '부발읍', 'pm10Grade': '1', 'o3Value': '0.009'}, {'so2Grade': '1', 'coFlag': None, 'khaiValue': '20', 'so2Value': '0.002', 'coValue': '0.3', 'pm25Flag': None, 'pm10Flag': None, 'o3Grade': '1', 'pm10Value': '11', 'khaiGrade': '1', 'pm25Value': '4', 'sidoName': '경기', 'no2Flag': None, 'no2Grade': '1', 'o3Flag': None, 'pm25Grade': '1', 'so2Flag': None, 'dataTime': '2025-09-14 24:00', 'coGrade': '1', 'no2Value': '0.003', 'stationName': '관인면', 'pm10Grade': '1', 'o3Value': '0.006'}, {'so2Grade': '1', 'coFlag': None, 'khaiValue': '28', 'so2Value': '0.002', 'coValue': '0.3', 'pm25Flag': None, 'pm10Flag': None, 'o3Grade': '1', 'pm10Value': '17', 'khaiGrade': '1', 'pm25Value': '6', 'sidoName': '경기', 'no2Flag': None, 'no2Grade': '1', 'o3Flag': None, 'pm25Grade': '1', 'so2Flag': None, 'dataTime': '2025-09-14 24:00', 'coGrade': '1', 'no2Value': '0.011', 'stationName': '선단동', 'pm10Grade': '1', 'o3Value': '0.011'}, {'so2Grade': '1', 'coFlag': None, 'khaiValue': '20', 'so2Value': '0.002', 'coValue': '0.2', 'pm25Flag': None, 'pm10Flag': None, 'o3Grade': '1', 'pm10Value': '14', 'khaiGrade': '1', 'pm25Value': '8', 'sidoName': '경기', 'no2Flag': None, 'no2Grade': '1', 'o3Flag': None, 'pm25Grade': '1', 'so2Flag': None, 'dataTime': '2025-09-14 24:00', 'coGrade': '1', 'no2Value': '0.003', 'stationName': '일동면', 'pm10Grade': '1', 'o3Value': '0.009'}, {'so2Grade': '1', 'coFlag': None, 'khaiValue': '54', 'so2Value': '0.003', 'coValue': '0.1', 'pm25Flag': None, 'pm10Flag': None, 'o3Grade': '2', 'pm10Value': '17', 'khaiGrade': '2', 'pm25Value': '10', 'sidoName': '경기', 'no2Flag': None, 'no2Grade': '1', 'o3Flag': None, 'pm25Grade': '1', 'so2Flag': None, 'dataTime': '2025-09-14 24:00', 'coGrade': '1', 'no2Value': '0.009', 'stationName': '사우동', 'pm10Grade': '1', 'o3Value': '0.034'}, {'so2Grade': '1', 'coFlag': None, 'khaiValue': '54', 'so2Value': '0.002', 'coValue': '0.3', 'pm25Flag': None, 'pm10Flag': None, 'o3Grade': '2', 'pm10Value': '8', 'khaiGrade': '2', 'pm25Value': '4', 'sidoName': '경기', 'no2Flag': None, 'no2Grade': '1', 'o3Flag': None, 'pm25Grade': '1', 'so2Flag': None, 'dataTime': '2025-09-14 24:00', 'coGrade': '1', 'no2Value': '0.006', 'stationName': '고촌읍', 'pm10Grade': '1', 'o3Value': '0.034'}, {'so2Grade': None, 'coFlag': None, 'khaiValue': None, 'so2Value': None, 'coValue': None, 'pm25Flag': None, 'pm10Flag': None, 'o3Grade': None, 'pm10Value': None, 'khaiGrade': None, 'pm25Value': None, 'sidoName': '경기', 'no2Flag': None, 'no2Grade': None, 'o3Flag': None, 'pm25Grade': None, 'so2Flag': None, 'dataTime': None, 'coGrade': None, 'no2Value': None, 'stationName': '월곶면', 'pm10Grade': None, 'o3Value': None}, {'so2Grade': '1', 'coFlag': None, 'khaiValue': '-', 'so2Value': '0.003', 'coValue': '0.3', 'pm25Flag': None, 'pm10Flag': None, 'o3Grade': '2', 'pm10Value': '24', 'khaiGrade': None, 'pm25Value': '11', 'sidoName': '경기', 'no2Flag': None, 'no2Grade': '1', 'o3Flag': None, 'pm25Grade': None, 'so2Flag': None, 'dataTime': '2025-09-14 24:00', 'coGrade': '1', 'no2Value': '0.009', 'stationName': '한강신도시', 'pm10Grade': '1', 'o3Value': '0.037'}, {'so2Grade': '1', 'coFlag': None, 'khaiValue': '45', 'so2Value': '0.002', 'coValue': '0.4', 'pm25Flag': None, 'pm10Flag': None, 'o3Grade': '1', 'pm10Value': '11', 'khaiGrade': '1', 'pm25Value': '6', 'sidoName': '경기', 'no2Flag': None, 'no2Grade': '1', 'o3Flag': None, 'pm25Grade': '1', 'so2Flag': None, 'dataTime': '2025-09-14 24:00', 'coGrade': '1', 'no2Value': '0.017', 'stationName': '한강로', 'pm10Grade': '1', 'o3Value': '0.027'}, {'so2Grade': '1', 'coFlag': None, 'khaiValue': '50', 'so2Value': '0.004', 'coValue': '0.5', 'pm25Flag': None, 'pm10Flag': None, 'o3Grade': '1', 'pm10Value': '27', 'khaiGrade': '1', 'pm25Value': '19', 'sidoName': '경기', 'no2Flag': None, 'no2Grade': '1', 'o3Flag': None, 'pm25Grade': '1', 'so2Flag': None, 'dataTime': '2025-09-14 24:00', 'coGrade': '1', 'no2Value': '0.022', 'stationName': '당동', 'pm10Grade': '1', 'o3Value': '0.019'}, {'so2Grade': '1', 'coFlag': None, 'khaiValue': '42', 'so2Value': '0.003', 'coValue': '0.4', 'pm25Flag': None, 'pm10Flag': None, 'o3Grade': '1', 'pm10Value': '10', 'khaiGrade': '1', 'pm25Value': '10', 'sidoName': '경기', 'no2Flag': None, 'no2Grade': '1', 'o3Flag': None, 'pm25Grade': '1', 'so2Flag': None, 'dataTime': '2025-09-14 24:00', 'coGrade': '1', 'no2Value': '0.008', 'stationName': '산본동', 'pm10Grade': '1', 'o3Value': '0.025'}, {'so2Grade': '1', 'coFlag': None, 'khaiValue': '62', 'so2Value': '0.002', 'coValue': '0.5', 'pm25Flag': None, 'pm10Flag': None, 'o3Grade': '1', 'pm10Value': '28', 'khaiGrade': '2', 'pm25Value': '12', 'sidoName': '경기', 'no2Flag': None, 'no2Grade': '2', 'o3Flag': None, 'pm25Grade': '1', 'so2Flag': None, 'dataTime': '2025-09-14 24:00', 'coGrade': '1', 'no2Value': '0.037', 'stationName': '오산동', 'pm10Grade': '1', 'o3Value': '0.002'}, {'so2Grade': '1', 'coFlag': None, 'khaiValue': '50', 'so2Value': '0.002', 'coValue': '0.4', 'pm25Flag': None, 'pm10Flag': None, 'o3Grade': '1', 'pm10Value': '22', 'khaiGrade': '1', 'pm25Value': '15', 'sidoName': '경기', 'no2Flag': None, 'no2Grade': '1', 'o3Flag': None, 'pm25Grade': '1', 'so2Flag': None, 'dataTime': '2025-09-14 24:00', 'coGrade': '1', 'no2Value': '0.019', 'stationName': '금암로(신장동)', 'pm10Grade': '1', 'o3Value': '0.014'}, {'so2Grade': '1', 'coFlag': None, 'khaiValue': '30', 'so2Value': '0.002', 'coValue': '0.5', 'pm25Flag': None, 'pm10Flag': None, 'o3Grade': '1', 'pm10Value': '21', 'khaiGrade': '1', 'pm25Value': '14', 'sidoName': '경기', 'no2Flag': None, 'no2Grade': '1', 'o3Flag': None, 'pm25Grade': '1', 'so2Flag': None, 'dataTime': '2025-09-14 24:00', 'coGrade': '1', 'no2Value': '0.017', 'stationName': '신장동', 'pm10Grade': '1', 'o3Value': '0.014'}, {'so2Grade': '1', 'coFlag': None, 'khaiValue': '39', 'so2Value': '0.001', 'coValue': '0.4', 'pm25Flag': None, 'pm10Flag': None, 'o3Grade': '1', 'pm10Value': '23', 'khaiGrade': '1', 'pm25Value': '13', 'sidoName': '경기', 'no2Flag': None, 'no2Grade': '1', 'o3Flag': None, 'pm25Grade': '1', 'so2Flag': None, 'dataTime': '2025-09-14 24:00', 'coGrade': '1', 'no2Value': '0.011', 'stationName': '미사', 'pm10Grade': '1', 'o3Value': '0.023'}, {'so2Grade': '1', 'coFlag': None, 'khaiValue': '-', 'so2Value': '0.003', 'coValue': '0.2', 'pm25Flag': '통신장애', 'pm10Flag': '통신장애', 'o3Grade': '1', 'pm10Value': '-', 'khaiGrade': None, 'pm25Value': '-', 'sidoName': '경기', 'no2Flag': None, 'no2Grade': '1', 'o3Flag': None, 'pm25Grade': None, 'so2Flag': None, 'dataTime': '2025-09-14 24:00', 'coGrade': '1', 'no2Value': '0.009', 'stationName': '남양읍', 'pm10Grade': None, 'o3Value': '0.013'}, {'so2Grade': '1', 'coFlag': None, 'khaiValue': '37', 'so2Value': '0.003', 'coValue': '0.4', 'pm25Flag': None, 'pm10Flag': None, 'o3Grade': '1', 'pm10Value': '26', 'khaiGrade': '1', 'pm25Value': '16', 'sidoName': '경기', 'no2Flag': None, 'no2Grade': '1', 'o3Flag': None, 'pm25Grade': '1', 'so2Flag': None, 'dataTime': '2025-09-14 24:00', 'coGrade': '1', 'no2Value': '0.011', 'stationName': '향남읍', 'pm10Grade': '1', 'o3Value': '0.012'}, {'so2Grade': '1', 'coFlag': None, 'khaiValue': '37', 'so2Value': '0.003', 'coValue': '0.4', 'pm25Flag': None, 'pm10Flag': None, 'o3Grade': '1', 'pm10Value': '21', 'khaiGrade': '1', 'pm25Value': '12', 'sidoName': '경기', 'no2Flag': None, 'no2Grade': '1', 'o3Flag': None, 'pm25Grade': '1', 'so2Flag': None, 'dataTime': '2025-09-14 24:00', 'coGrade': '1', 'no2Value': '0.014', 'stationName': '동탄', 'pm10Grade': '1', 'o3Value': '0.022'}, {'so2Grade': '1', 'coFlag': None, 'khaiValue': '55', 'so2Value': '0.002', 'coValue': '0.3', 'pm25Flag': None, 'pm10Flag': None, 'o3Grade': '1', 'pm10Value': '38', 'khaiGrade': '2', 'pm25Value': '10', 'sidoName': '경기', 'no2Flag': None, 'no2Grade': '1', 'o3Flag': None, 'pm25Grade': '1', 'so2Flag': None, 'dataTime': '2025-09-14 24:00', 'coGrade': '1', 'no2Value': '0.007', 'stationName': '우정읍', 'pm10Grade': '2', 'o3Value': '0.022'}, {'so2Grade': '1', 'coFlag': None, 'khaiValue': '44', 'so2Value': '0.003', 'coValue': '0.3', 'pm25Flag': None, 'pm10Flag': None, 'o3Grade': '1', 'pm10Value': '31', 'khaiGrade': '1', 'pm25Value': '21', 'sidoName': '경기', 'no2Flag': None, 'no2Grade': '1', 'o3Flag': None, 'pm25Grade': '1', 'so2Flag': None, 'dataTime': '2025-09-14 24:00', 'coGrade': '1', 'no2Value': '0.008', 'stationName': '청계동', 'pm10Grade': '1', 'o3Value': '0.026'}, {'so2Grade': '1', 'coFlag': None, 'khaiValue': '30', 'so2Value': '0.003', 'coValue': '0.3', 'pm25Flag': None, 'pm10Flag': None, 'o3Grade': '1', 'pm10Value': '14', 'khaiGrade': '1', 'pm25Value': '9', 'sidoName': '경기', 'no2Flag': None, 'no2Grade': '1', 'o3Flag': None, 'pm25Grade': '1', 'so2Flag': None, 'dataTime': '2025-09-14 24:00', 'coGrade': '1', 'no2Value': '0.009', 'stationName': '새솔동', 'pm10Grade': '1', 'o3Value': '0.018'}, {'so2Grade': '1', 'coFlag': None, 'khaiValue': '55', 'so2Value': '0.004', 'coValue': '0.3', 'pm25Flag': None, 'pm10Flag': None, 'o3Grade': '2', 'pm10Value': '11', 'khaiGrade': '2', 'pm25Value': '9', 'sidoName': '경기', 'no2Flag': None, 'no2Grade': '1', 'o3Flag': None, 'pm25Grade': '1', 'so2Flag': None, 'dataTime': '2025-09-14 24:00', 'coGrade': '1', 'no2Value': '0.014', 'stationName': '봉담읍', 'pm10Grade': '1', 'o3Value': '0.035'}, {'so2Grade': '1', 'coFlag': None, 'khaiValue': '50', 'so2Value': '0.003', 'coValue': '0.2', 'pm25Flag': None, 'pm10Flag': None, 'o3Grade': '1', 'pm10Value': '27', 'khaiGrade': '1', 'pm25Value': '12', 'sidoName': '경기', 'no2Flag': None, 'no2Grade': '1', 'o3Flag': None, 'pm25Grade': '1', 'so2Flag': None, 'dataTime': '2025-09-14 24:00', 'coGrade': '1', 'no2Value': '0.005', 'stationName': '서신면', 'pm10Grade': '1', 'o3Value': '0.030'}, {'so2Grade': '1', 'coFlag': None, 'khaiValue': '41', 'so2Value': '0.003', 'coValue': '0.3', 'pm25Flag': None, 'pm10Flag': None, 'o3Grade': '1', 'pm10Value': '13', 'khaiGrade': '1', 'pm25Value': '5', 'sidoName': '경기', 'no2Flag': None, 'no2Grade': '1', 'o3Flag': None, 'pm25Grade': '1', 'so2Flag': None, 'dataTime': '2025-09-14 24:00', 'coGrade': '1', 'no2Value': '0.007', 'stationName': '백석읍', 'pm10Grade': '1', 'o3Value': '0.024'}, {'so2Grade': '1', 'coFlag': None, 'khaiValue': '30', 'so2Value': '0.003', 'coValue': '0.5', 'pm25Flag': None, 'pm10Flag': None, 'o3Grade': '1', 'pm10Value': '22', 'khaiGrade': '1', 'pm25Value': '8', 'sidoName': '경기', 'no2Flag': None, 'no2Grade': '1', 'o3Flag': None, 'pm25Grade': '1', 'so2Flag': None, 'dataTime': '2025-09-14 24:00', 'coGrade': '1', 'no2Value': '0.009', 'stationName': '고읍', 'pm10Grade': '1', 'o3Value': '0.011'}, {'so2Grade': '1', 'coFlag': None, 'khaiValue': '20', 'so2Value': '0.002', 'coValue': '0.3', 'pm25Flag': None, 'pm10Flag': None, 'o3Grade': '1', 'pm10Value': '17', 'khaiGrade': '1', 'pm25Value': '1', 'sidoName': '경기', 'no2Flag': None, 'no2Grade': '1', 'o3Flag': None, 'pm25Grade': '1', 'so2Flag': None, 'dataTime': '2025-09-14 24:00', 'coGrade': '1', 'no2Value': '0.005', 'stationName': '보산동', 'pm10Grade': '1', 'o3Value': '0.011'}, {'so2Grade': '1', 'coFlag': None, 'khaiValue': '33', 'so2Value': '0.001', 'coValue': '0.5', 'pm25Flag': None, 'pm10Flag': None, 'o3Grade': '1', 'pm10Value': '26', 'khaiGrade': '1', 'pm25Value': '14', 'sidoName': '경기', 'no2Flag': None, 'no2Grade': '1', 'o3Flag': None, 'pm25Grade': '1', 'so2Flag': None, 'dataTime': '2025-09-14 24:00', 'coGrade': '1', 'no2Value': '0.008', 'stationName': '봉산동', 'pm10Grade': '1', 'o3Value': '0.008'}, {'so2Grade': '1', 'coFlag': None, 'khaiValue': '54', 'so2Value': '0.001', 'coValue': '0.8', 'pm25Flag': None, 'pm10Flag': None, 'o3Grade': '1', 'pm10Value': '28', 'khaiGrade': '2', 'pm25Value': '15', 'sidoName': '경기', 'no2Flag': None, 'no2Grade': '1', 'o3Flag': None, 'pm25Grade': '2', 'so2Flag': None, 'dataTime': '2025-09-14 24:00', 'coGrade': '1', 'no2Value': '0.008', 'stationName': '공도읍', 'pm10Grade': '1', 'o3Value': '0.017'}, {'so2Grade': '1', 'coFlag': None, 'khaiValue': '47', 'so2Value': '0.001', 'coValue': '0.4', 'pm25Flag': None, 'pm10Flag': None, 'o3Grade': '1', 'pm10Value': '29', 'khaiGrade': '1', 'pm25Value': '14', 'sidoName': '경기', 'no2Flag': None, 'no2Grade': '1', 'o3Flag': None, 'pm25Grade': '1', 'so2Flag': None, 'dataTime': '2025-09-14 24:00', 'coGrade': '1', 'no2Value': '0.009', 'stationName': '죽산면', 'pm10Grade': '1', 'o3Value': '0.005'}], 'pageNo': 1, 'numOfRows': 100}, 'header': {'resultMsg': 'NORMAL_CODE', 'resultCode': '00'}}}\n"
          ]
        }
      ]
    }
  ]
}